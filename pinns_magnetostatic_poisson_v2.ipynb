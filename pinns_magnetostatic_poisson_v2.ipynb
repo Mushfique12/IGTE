{
  "cells": [
    {
      "cell_type": "markdown",
      "metadata": {
        "id": "view-in-github",
        "colab_type": "text"
      },
      "source": [
        "<a href=\"https://colab.research.google.com/github/Mushfique12/IGTE/blob/ResNet/pinns_magnetostatic_poisson_v2.ipynb\" target=\"_parent\"><img src=\"https://colab.research.google.com/assets/colab-badge.svg\" alt=\"Open In Colab\"/></a>"
      ]
    },
    {
      "cell_type": "code",
      "execution_count": null,
      "metadata": {
        "colab": {
          "base_uri": "https://localhost:8080/"
        },
        "id": "AH0ScncWNGCI",
        "outputId": "89d7de97-d1c7-4119-bc9f-bd77fa3a9f23"
      },
      "outputs": [
        {
          "output_type": "stream",
          "name": "stdout",
          "text": [
            "Looking in indexes: https://pypi.org/simple, https://us-python.pkg.dev/colab-wheels/public/simple/\n",
            "Collecting ray[tune]\n",
            "  Downloading ray-2.0.0-cp37-cp37m-manylinux2014_x86_64.whl (59.4 MB)\n",
            "\u001b[K     |████████████████████████████████| 59.4 MB 7.8 MB/s \n",
            "\u001b[?25hCollecting grpcio<=1.43.0,>=1.28.1\n",
            "  Downloading grpcio-1.43.0-cp37-cp37m-manylinux_2_17_x86_64.manylinux2014_x86_64.whl (4.1 MB)\n",
            "\u001b[K     |████████████████████████████████| 4.1 MB 33.7 MB/s \n",
            "\u001b[?25hRequirement already satisfied: frozenlist in /usr/local/lib/python3.7/dist-packages (from ray[tune]) (1.3.1)\n",
            "Requirement already satisfied: numpy>=1.16 in /usr/local/lib/python3.7/dist-packages (from ray[tune]) (1.21.6)\n",
            "Requirement already satisfied: attrs in /usr/local/lib/python3.7/dist-packages (from ray[tune]) (22.1.0)\n",
            "Requirement already satisfied: protobuf<4.0.0,>=3.15.3 in /usr/local/lib/python3.7/dist-packages (from ray[tune]) (3.17.3)\n",
            "Collecting virtualenv\n",
            "  Downloading virtualenv-20.16.3-py2.py3-none-any.whl (8.8 MB)\n",
            "\u001b[K     |████████████████████████████████| 8.8 MB 38.9 MB/s \n",
            "\u001b[?25hRequirement already satisfied: typing-extensions in /usr/local/lib/python3.7/dist-packages (from ray[tune]) (4.1.1)\n",
            "Requirement already satisfied: msgpack<2.0.0,>=1.0.0 in /usr/local/lib/python3.7/dist-packages (from ray[tune]) (1.0.4)\n",
            "Requirement already satisfied: pyyaml in /usr/local/lib/python3.7/dist-packages (from ray[tune]) (6.0)\n",
            "Requirement already satisfied: requests in /usr/local/lib/python3.7/dist-packages (from ray[tune]) (2.23.0)\n",
            "Requirement already satisfied: click<=8.0.4,>=7.0 in /usr/local/lib/python3.7/dist-packages (from ray[tune]) (7.1.2)\n",
            "Requirement already satisfied: jsonschema in /usr/local/lib/python3.7/dist-packages (from ray[tune]) (4.3.3)\n",
            "Requirement already satisfied: filelock in /usr/local/lib/python3.7/dist-packages (from ray[tune]) (3.8.0)\n",
            "Requirement already satisfied: aiosignal in /usr/local/lib/python3.7/dist-packages (from ray[tune]) (1.2.0)\n",
            "Requirement already satisfied: pandas in /usr/local/lib/python3.7/dist-packages (from ray[tune]) (1.3.5)\n",
            "Requirement already satisfied: tabulate in /usr/local/lib/python3.7/dist-packages (from ray[tune]) (0.8.10)\n",
            "Collecting tensorboardX>=1.9\n",
            "  Downloading tensorboardX-2.5.1-py2.py3-none-any.whl (125 kB)\n",
            "\u001b[K     |████████████████████████████████| 125 kB 41.5 MB/s \n",
            "\u001b[?25hRequirement already satisfied: six>=1.5.2 in /usr/local/lib/python3.7/dist-packages (from grpcio<=1.43.0,>=1.28.1->ray[tune]) (1.15.0)\n",
            "Requirement already satisfied: importlib-metadata in /usr/local/lib/python3.7/dist-packages (from jsonschema->ray[tune]) (4.12.0)\n",
            "Requirement already satisfied: importlib-resources>=1.4.0 in /usr/local/lib/python3.7/dist-packages (from jsonschema->ray[tune]) (5.9.0)\n",
            "Requirement already satisfied: pyrsistent!=0.17.0,!=0.17.1,!=0.17.2,>=0.14.0 in /usr/local/lib/python3.7/dist-packages (from jsonschema->ray[tune]) (0.18.1)\n",
            "Requirement already satisfied: zipp>=3.1.0 in /usr/local/lib/python3.7/dist-packages (from importlib-resources>=1.4.0->jsonschema->ray[tune]) (3.8.1)\n",
            "Requirement already satisfied: python-dateutil>=2.7.3 in /usr/local/lib/python3.7/dist-packages (from pandas->ray[tune]) (2.8.2)\n",
            "Requirement already satisfied: pytz>=2017.3 in /usr/local/lib/python3.7/dist-packages (from pandas->ray[tune]) (2022.2.1)\n",
            "Requirement already satisfied: idna<3,>=2.5 in /usr/local/lib/python3.7/dist-packages (from requests->ray[tune]) (2.10)\n",
            "Requirement already satisfied: chardet<4,>=3.0.2 in /usr/local/lib/python3.7/dist-packages (from requests->ray[tune]) (3.0.4)\n",
            "Requirement already satisfied: urllib3!=1.25.0,!=1.25.1,<1.26,>=1.21.1 in /usr/local/lib/python3.7/dist-packages (from requests->ray[tune]) (1.24.3)\n",
            "Requirement already satisfied: certifi>=2017.4.17 in /usr/local/lib/python3.7/dist-packages (from requests->ray[tune]) (2022.6.15)\n",
            "Collecting distlib<1,>=0.3.5\n",
            "  Downloading distlib-0.3.5-py2.py3-none-any.whl (466 kB)\n",
            "\u001b[K     |████████████████████████████████| 466 kB 36.8 MB/s \n",
            "\u001b[?25hCollecting platformdirs<3,>=2.4\n",
            "  Downloading platformdirs-2.5.2-py3-none-any.whl (14 kB)\n",
            "Installing collected packages: platformdirs, distlib, virtualenv, grpcio, tensorboardX, ray\n",
            "  Attempting uninstall: grpcio\n",
            "    Found existing installation: grpcio 1.47.0\n",
            "    Uninstalling grpcio-1.47.0:\n",
            "      Successfully uninstalled grpcio-1.47.0\n",
            "Successfully installed distlib-0.3.5 grpcio-1.43.0 platformdirs-2.5.2 ray-2.0.0 tensorboardX-2.5.1 virtualenv-20.16.3\n"
          ]
        }
      ],
      "source": [
        "pip install -U \"ray[tune]\""
      ]
    },
    {
      "cell_type": "code",
      "execution_count": null,
      "metadata": {
        "colab": {
          "base_uri": "https://localhost:8080/"
        },
        "id": "b9DB7gEOm2fx",
        "outputId": "7b2203a5-0c57-4459-d3a4-76382f223eed"
      },
      "outputs": [
        {
          "output_type": "stream",
          "name": "stdout",
          "text": [
            "cpu\n"
          ]
        }
      ],
      "source": [
        "from typing import Callable\n",
        "\n",
        "import matplotlib.pyplot as plt\n",
        "import torch\n",
        "from scipy.integrate import solve_ivp\n",
        "from torch import nn\n",
        "import numpy as np\n",
        "import scipy.io\n",
        "import time\n",
        "import urllib\n",
        "\n",
        "from ray import tune\n",
        "from ray.tune import CLIReporter\n",
        "from ray.tune.schedulers import ASHAScheduler\n",
        "\n",
        "device = torch.device(\"cuda:0\" if torch.cuda.is_available() else \"cpu\")\n",
        "print(device)"
      ]
    },
    {
      "cell_type": "code",
      "execution_count": null,
      "metadata": {
        "id": "28E6FWCaFbR5"
      },
      "outputs": [],
      "source": [
        "# Checking for GPU\n",
        "if torch.cuda.is_available():\n",
        "  tensor = torch.rand(3, 4)\n",
        "  tensor = tensor.to('cuda')\n",
        "  print(f\"Device tensor is stored on: {tensor.device}\")"
      ]
    },
    {
      "cell_type": "markdown",
      "metadata": {
        "id": "0UGOnlnqnMiK"
      },
      "source": [
        "# Load data"
      ]
    },
    {
      "cell_type": "code",
      "execution_count": null,
      "metadata": {
        "colab": {
          "base_uri": "https://localhost:8080/"
        },
        "id": "usi6SCW8USlP",
        "outputId": "1a10f643-80bf-4c3c-e266-f557fc541208"
      },
      "outputs": [
        {
          "output_type": "stream",
          "name": "stdout",
          "text": [
            "--2022-08-25 07:19:12--  https://github.com/Mushfique12/IGTE/blob/82629c9165acb94b7c2ec77d054b9a3cbd314d06/PINN_Lin_mat.mat?raw=true\n",
            "Resolving github.com (github.com)... 140.82.113.4\n",
            "Connecting to github.com (github.com)|140.82.113.4|:443... connected.\n",
            "HTTP request sent, awaiting response... 302 Found\n",
            "Location: https://github.com/Mushfique12/IGTE/raw/82629c9165acb94b7c2ec77d054b9a3cbd314d06/PINN_Lin_mat.mat [following]\n",
            "--2022-08-25 07:19:13--  https://github.com/Mushfique12/IGTE/raw/82629c9165acb94b7c2ec77d054b9a3cbd314d06/PINN_Lin_mat.mat\n",
            "Reusing existing connection to github.com:443.\n",
            "HTTP request sent, awaiting response... 302 Found\n",
            "Location: https://raw.githubusercontent.com/Mushfique12/IGTE/82629c9165acb94b7c2ec77d054b9a3cbd314d06/PINN_Lin_mat.mat [following]\n",
            "--2022-08-25 07:19:13--  https://raw.githubusercontent.com/Mushfique12/IGTE/82629c9165acb94b7c2ec77d054b9a3cbd314d06/PINN_Lin_mat.mat\n",
            "Resolving raw.githubusercontent.com (raw.githubusercontent.com)... 185.199.111.133, 185.199.108.133, 185.199.110.133, ...\n",
            "Connecting to raw.githubusercontent.com (raw.githubusercontent.com)|185.199.111.133|:443... connected.\n",
            "HTTP request sent, awaiting response... 200 OK\n",
            "Length: 57277 (56K) [application/octet-stream]\n",
            "Saving to: ‘PINN_Lin_mat.mat?raw=true’\n",
            "\n",
            "PINN_Lin_mat.mat?ra 100%[===================>]  55.93K  --.-KB/s    in 0.01s   \n",
            "\n",
            "2022-08-25 07:19:13 (5.48 MB/s) - ‘PINN_Lin_mat.mat?raw=true’ saved [57277/57277]\n",
            "\n"
          ]
        }
      ],
      "source": [
        "# Boundary points from subdomian 1\n",
        "N_ub   = 250\n",
        "\n",
        "# Residual points in three subdomains\n",
        "N_f1   = 500\n",
        "N_f2   = 200\n",
        "\n",
        "# Interface points along the two interfaces\n",
        "N_I1   = 150\n",
        "\n",
        "# NN architecture in each subdomain\n",
        "layers1 = [2, 400, 400, 100, 1]\n",
        "# layers2 = [2, 400, 200, 100, 100, 1]\n",
        "layers2 = [2, 100, 100, 40, 1]\n",
        "\n",
        "mu1 = 1\n",
        "mu2 = 1\n",
        "\n",
        "Max_iter = 5000\n",
        "\n",
        "# Load training data (boundary points), residual and interface points from .mat file\n",
        "# All points are generated in Matlab\n",
        "# Download file from github\n",
        "!wget https://github.com/Mushfique12/IGTE/blob/82629c9165acb94b7c2ec77d054b9a3cbd314d06/PINN_Lin_mat.mat?raw=true\n",
        "# Rename the file\n",
        "!mv PINN_Lin_mat.mat\\?raw\\=true PINN_Lin_mat.mat\n",
        "# Load the file\n",
        "data = scipy.io.loadmat('/content/PINN_Lin_mat.mat')"
      ]
    },
    {
      "cell_type": "markdown",
      "metadata": {
        "id": "f31Bvt1NxnUd"
      },
      "source": [
        "# Data Preprocessing"
      ]
    },
    {
      "cell_type": "code",
      "execution_count": null,
      "metadata": {
        "id": "pVM2OES-MYUv"
      },
      "outputs": [],
      "source": [
        "x_f1 = data['x_domain'].flatten()[:,None]\n",
        "y_f1 = data['y_domain'].flatten()[:,None]\n",
        "x_f2 = data['x_coil'].flatten()[:,None]\n",
        "y_f2 = data['y_coil'].flatten()[:,None]\n",
        "\n",
        "x_i  = data['x_i'].flatten()[:,None]\n",
        "y_i  = data['y_i'].flatten()[:,None]\n",
        "\n",
        "x_boundary   = data['x_boundary'].flatten()[:,None]\n",
        "y_boundary   = data['y_boundary'].flatten()[:,None]\n",
        "\n",
        "u_boundary  = data['u_boundary'].flatten()[:,None]\n",
        "u_exact1 = data['u_domain'].flatten()[:,None]\n",
        "u_exact2 = data['u_coil'].flatten()[:,None]\n",
        "u_exacti = data['u_i'].flatten()[:,None]\n",
        "\n",
        "u_exact = np.concatenate([u_exact1, u_exact2, u_exacti, u_boundary])\n",
        "\n",
        "u_exact1 = np.divide(u_exact1, u_exact.max())\n",
        "u_exact2 = np.divide(u_exact2, u_exact.max())\n",
        "u_exacti = np.divide(u_exacti, u_exact.max())\n",
        "u_boundary = np.divide(u_boundary, u_exact.max())\n",
        "\n",
        "X_f1 = np.hstack((x_f1.flatten()[:,None], y_f1.flatten()[:,None]))\n",
        "X_f2 = np.hstack((x_f2.flatten()[:,None], y_f2.flatten()[:,None]))\n",
        "X_fi = np.hstack((x_i.flatten()[:,None], y_i.flatten()[:,None]))\n",
        "X_ub = np.hstack((x_boundary.flatten()[:,None], y_boundary.flatten()[:,None]))\n",
        "\n",
        "# Points in the whole  domain\n",
        "# x_total =  data['x_total'].flatten()[:,None] \n",
        "# y_total =  data['y_total'].flatten()[:,None]\n",
        "\n",
        "# X_star1 = np.hstack((x_f1.flatten()[:,None], y_f1.flatten()[:,None]))\n",
        "# X_star2 = np.hstack((x_f2.flatten()[:,None], y_f2.flatten()[:,None]))\n",
        "\n",
        "# Randomly select the residual points from sub-domains\n",
        "idx1 = np.random.choice(X_f1.shape[0], N_f1, replace=False)    \n",
        "X_f1_train = np.float32(X_f1[idx1,:])\n",
        "\n",
        "idx2 = np.random.choice(X_f2.shape[0], N_f2, replace=False)    \n",
        "X_f2_train = np.float32(X_f2[idx2,:])\n",
        "\n",
        "# Randomly select boundary points\n",
        "idx4 = np.random.choice(X_ub.shape[0], N_ub, replace=False)\n",
        "X_ub_train = np.float32(X_ub[idx4,:])\n",
        "ub_train   = np.float32(u_boundary[idx4,:])\n",
        "\n",
        "# Randomly select the interface points along two interfaces\n",
        "idxi1 = np.random.choice(X_fi.shape[0], N_I1, replace=False)    \n",
        "X_fi_train = np.float32(X_fi[idxi1,:])\n",
        "ub_fi1_train = np.float32(u_exacti[idxi1,:])"
      ]
    },
    {
      "cell_type": "markdown",
      "metadata": {
        "id": "spuaIlrLxE5i"
      },
      "source": [
        "# Defining ML Architecture"
      ]
    },
    {
      "cell_type": "code",
      "source": [
        "class DenseResNet(nn.Module):\n",
        "    \"\"\"\n",
        "    This is a ResNet Class.\n",
        "    -> dim_in: network's input dimension\n",
        "    -> dim_out: network's output dimension\n",
        "    -> num_resnet_blocks: number of ResNet blocks\n",
        "    -> num_layers_per_block: number of layers per ResNet block\n",
        "    -> num_neurons: number of neurons in each layer\n",
        "    -> activation: Non-linear activations function that you want to use. E.g. nn.Sigmoid(), nn.ReLU()\n",
        "    -> fourier_features: whether to pass the inputs through Fourier mapping. E.g. True or False\n",
        "    -> m_freq: how many frequencies do you want the inputs to be mapped to\n",
        "    -> sigma: controls the spectrum of frequencies. \n",
        "              If sigma is greater more frequencies are consider. \n",
        "              You can also look at it as sampling from the standard normal, Z~N(0, 1), \n",
        "              and mapping to another normal, X~N(\\mu, \\sigma^2), using x = mu + sigma*z.\n",
        "    -> tune_beta: do you want to consider the parameter beta in the activation functions in each layer? E.g., Tanh(beta*x).\n",
        "                  In practice it is observed that training beta (i.e. tune_beta=True) could improve convergence. \n",
        "                  If tune_beta=False, you get the a fixed beta i.e. beta=1.\n",
        "    -> The method model_capacity() returns the number of layers and parameters in the network.\n",
        "    \"\"\"\n",
        "    def __init__(self, dim_in=2, dim_out=1, num_resnet_blocks=3, \n",
        "                 num_layers_per_block=2, num_neurons=50, activation=nn.Sigmoid(), \n",
        "                 fourier_features=False, m_freqs=100, sigma=10, tune_beta=False):\n",
        "        super(DenseResNet, self).__init__()\n",
        "\n",
        "        self.num_resnet_blocks = num_resnet_blocks\n",
        "        self.num_layers_per_block = num_layers_per_block\n",
        "        self.fourier_features = fourier_features\n",
        "        self.activation = activation\n",
        "        self.tune_beta = tune_beta\n",
        "\n",
        "        if tune_beta:\n",
        "            self.beta0 = nn.Parameter(torch.ones(1, 1))\n",
        "            self.beta = nn.Parameter(torch.ones(self.num_resnet_blocks, self.num_layers_per_block))\n",
        "\n",
        "        else: \n",
        "            self.beta0 = torch.ones(1, 1)\n",
        "            self.beta = torch.ones(self.num_resnet_blocks, self.num_layers_per_block)\n",
        "\n",
        "        self.first = nn.Linear(dim_in, num_neurons)\n",
        "\n",
        "        self.resblocks = nn.ModuleList([\n",
        "            nn.ModuleList([nn.Linear(num_neurons, num_neurons) \n",
        "                for _ in range(num_layers_per_block)]) \n",
        "            for _ in range(num_resnet_blocks)])\n",
        "\n",
        "        self.last = nn.Linear(num_neurons, dim_out)\n",
        "\n",
        "        if fourier_features:\n",
        "            self.first = nn.Linear(2*m_freqs, num_neurons)\n",
        "            self.B = nn.Parameter(sigma*torch.randn(dim_in, m_freqs)) # to converts inputs to m_freqs\n",
        "\n",
        "    def forward(self, x):\n",
        "        if self.fourier_features:\n",
        "            cosx = torch.cos(torch.matmul(x, self.B))\n",
        "            sinx = torch.sin(torch.matmul(x, self.B))\n",
        "            x = torch.cat((cosx, sinx), dim=1)\n",
        "            x = self.activation(self.beta0*self.first(x)) \n",
        "\n",
        "        else:\n",
        "            x = self.activation(self.beta0*self.first(x))\n",
        "\n",
        "        for i in range(self.num_resnet_blocks):\n",
        "            z = self.activation(self.beta[i][0]*self.resblocks[i][0](x))\n",
        "\n",
        "            for j in range(1, self.num_layers_per_block):\n",
        "                z = self.activation(self.beta[i][j]*self.resblocks[i][j](z))\n",
        "\n",
        "            x = z + x\n",
        "\n",
        "        out = self.last(x)\n",
        "\n",
        "        return out\n",
        "\n",
        "    def model_capacity(self):\n",
        "        \"\"\"\n",
        "        Prints the number of parameters and the number of layers in the network\n",
        "        \"\"\"\n",
        "        number_of_learnable_params = sum(p.numel() for p in self.parameters() if p.requires_grad)\n",
        "        num_layers = len(list(self.parameters()))\n",
        "        print(\"\\n\\nThe number of layers in the model: %d\" % num_layers)\n",
        "        print(\"\\nThe number of learnable parameters in the model: %d\" % number_of_learnable_params)  "
      ],
      "metadata": {
        "id": "idPXQPPE19Zm"
      },
      "execution_count": null,
      "outputs": []
    },
    {
      "cell_type": "code",
      "execution_count": null,
      "metadata": {
        "id": "HqBuaOv7T8cN"
      },
      "outputs": [],
      "source": [
        "class NNApproximator(nn.Module):\n",
        "    def __init__(self, num_hidden: int, dim_hidden: int, act=nn.Sigmoid()):\n",
        "\n",
        "        super().__init__()\n",
        "\n",
        "        self.layer_in = nn.Linear(2, dim_hidden)\n",
        "        self.layer_out = nn.Linear(dim_hidden, 1)\n",
        "\n",
        "        num_middle = num_hidden - 1\n",
        "        self.middle_layers = nn.ModuleList(\n",
        "            [nn.Linear(dim_hidden, dim_hidden) for _ in range(num_middle)]\n",
        "        )\n",
        "        self.act = act\n",
        "        self.act_out = nn.Sigmoid()\n",
        "\n",
        "    def forward(self, x):\n",
        "        out = self.act(self.layer_in(x))\n",
        "        for layer in self.middle_layers:\n",
        "            out = self.act(layer(out))\n",
        "        return self.act_out(self.layer_out(out))\n",
        "\n",
        "\n",
        "def f(nn: DenseResNet, x: torch.Tensor) -> torch.Tensor:\n",
        "    \"\"\"Compute the value of the approximate solution from the NN model\"\"\"\n",
        "    return nn(x)\n",
        "\n",
        "\n",
        "def df(nn: DenseResNet, x: torch.Tensor = None, order: int = 2) -> torch.Tensor:\n",
        "    \"\"\"Compute neural network derivative with respect to input features using PyTorch autograd engine\"\"\"\n",
        "    df_value = f(nn, x)\n",
        "    # print('x.shape', x.shape)\n",
        "    # output_dim = [int(x.shape[0]), 1]\n",
        "    # print('output_dim', output_dim)\n",
        "    # output_ = torch.ones(output_dim)\n",
        "    # print('output_shape', output_.shape)\n",
        "\n",
        "    for _ in range(order):\n",
        "        df_value = torch.autograd.grad(\n",
        "            df_value,\n",
        "            x,\n",
        "            # grad_outputs=torch.ones(output_dim),\n",
        "            torch.ones_like(df_value),\n",
        "            # grad_outputs=torch.ones_like(x),\n",
        "            create_graph=True,\n",
        "            retain_graph=True,\n",
        "        )[0]\n",
        "\n",
        "    return df_value\n",
        "\n",
        "\n",
        "def compute_loss(\n",
        "    nn1: NNApproximator, \n",
        "    nn2: NNApproximator, \n",
        "    epoch : int = 0,\n",
        "    x1: torch.Tensor = None, \n",
        "    x2: torch.Tensor = None, \n",
        "    xi: torch.Tensor = None, \n",
        "    xb: torch.Tensor = None, \n",
        "    ub: torch.Tensor = None,\n",
        "    ufi: torch.Tensor = None,\n",
        "    mult: int = 1,\n",
        "    verbose: bool = False\n",
        ") -> torch.float:\n",
        "\n",
        "    \"\"\"Compute the full loss function as interior loss + boundary loss\n",
        "    This custom loss function is fully defined with differentiable tensors therefore\n",
        "    the .backward() method can be applied to it\n",
        "    \"\"\"\n",
        "    multiplier = mult\n",
        "    interior_loss_1 = torch.sub(df(nn1, x1, order=2), torch.exp(x1))\n",
        "    interior_loss_2 = torch.sub(df(nn2, x2, order=2), -50)\n",
        "\n",
        "    u1_i = f(nn1, xi)\n",
        "    u2_i = f(nn2, xi)\n",
        "    uAvg_i = torch.mul(torch.add(u1_i, u2_i), 2)\n",
        "\n",
        "    interface_loss_1 = torch.sub(uAvg_i, u1_i)\n",
        "    interface_loss_2 = torch.sub(uAvg_i, u2_i)\n",
        "\n",
        "    actual_interface_loss_1 = torch.sub(ufi, u1_i)\n",
        "    actual_interface_loss_2 = torch.sub(ufi, u2_i)\n",
        "\n",
        "    # Interface 1\n",
        "    interface_1 = df(nn1, xi, order=2)\n",
        "    interface_2 = df(nn2, xi, order=2)\n",
        "\n",
        "    # Residual Continuity conditions on the interfaces\n",
        "    res_loss = (interface_1 - torch.exp(xi)) - (interface_2 - (-50))\n",
        "    \n",
        "    # boundary = xb\n",
        "    # boundary.requires_grad = True\n",
        "    ub_pred = f(nn1, xb)\n",
        "    boundary_loss = torch.sub(ub, ub_pred)\n",
        "\n",
        "    if epoch % 2000 == 0:\n",
        "\n",
        "      print(f\"Loss at {epoch}: {interior_loss_1.pow(2).mean()}, {interface_loss_1.pow(2).mean()}, \\\n",
        "              domain: {interior_loss_2.pow(2).mean()}, {interface_loss_2.pow(2).mean()}, {boundary_loss.pow(2).mean()}\")\n",
        "\n",
        "\n",
        "    loss_1 = \\\n",
        "        interior_loss_1.pow(2).mean() + \\\n",
        "        multiplier * interface_loss_1.pow(2).mean() + \\\n",
        "        multiplier * boundary_loss.pow(2).mean() #+ \\\n",
        "        #multiplier * actual_interface_loss_1.pow(2).mean() #+ \\\n",
        "        #res_loss.pow(2).mean()\n",
        "\n",
        "    loss_2 = \\\n",
        "        interior_loss_2.pow(2).mean() + \\\n",
        "        multiplier * interface_loss_2.pow(2).mean() #+ \\\n",
        "        #multiplier * actual_interface_loss_2.pow(2).mean() #+ \\\n",
        "        #res_loss.pow(2).mean()\n",
        "\n",
        "    final_loss = loss_1 + loss_2\n",
        "\n",
        "    loss_list = [interior_loss_1.pow(2).mean().detach().cpu().numpy(), \n",
        "              interface_loss_1.pow(2).mean().detach().cpu().numpy(), \n",
        "              interior_loss_2.pow(2).mean().detach().cpu().numpy(), \n",
        "              interface_loss_2.pow(2).mean().detach().cpu().numpy(), \n",
        "              boundary_loss.pow(2).mean().detach().cpu().numpy()]\n",
        "\n",
        "    return final_loss, loss_list\n",
        "\n",
        "\n",
        "def train_model(\n",
        "    nn1: DenseResNet, \n",
        "    nn2: DenseResNet, \n",
        "    loss_fn: Callable,\n",
        "    learning_rate: int = 0.01,\n",
        "    max_epochs: int = 1000,\n",
        "):\n",
        "\n",
        "    loss_evolution_1, loss_evolution_2 = [], []\n",
        "    interior_loss_1, interface_loss_1, interior_loss_2, interface_loss_2, boundary_loss= [], [], [], [], []\n",
        "\n",
        "    optimizer = torch.optim.NAdam([\n",
        "                {'params': nn1.parameters(), 'lr': learning_rate},\n",
        "                {'params': nn2.parameters(), 'lr': learning_rate}\n",
        "            ])\n",
        "    \n",
        "  \n",
        "    for epoch in range(max_epochs):\n",
        "\n",
        "        try:\n",
        "            loss, loss_list = loss_fn(nn1, nn2, epoch)\n",
        "            optimizer.zero_grad()\n",
        "            loss.backward()\n",
        "            optimizer.step()\n",
        "\n",
        "            if epoch % 1000 == 0:\n",
        "                print(f\"Epoch: {epoch} - Loss # 1: {float(loss):>7f}\")\n",
        "\n",
        "            loss_evolution_1.append(loss.detach().cpu().numpy())\n",
        "\n",
        "        except KeyboardInterrupt:\n",
        "            break\n",
        "\n",
        "        interior_loss_1.append(loss_list[0]) \n",
        "        interface_loss_1.append(loss_list[1]) \n",
        "        interior_loss_2.append(loss_list[2]) \n",
        "        interface_loss_2.append(loss_list[3]) \n",
        "        boundary_loss.append(loss_list[4])\n",
        "\n",
        "        # print('===================================================================')\n",
        "        # print('Here is the Loss Reported', float(loss.detach().cpu().numpy())) \n",
        "        # print('===================================================================')\n",
        "\n",
        "        # Reporting to Ray Tune to stop bad performing trials early \n",
        "        tune.report(loss=float(loss.detach().cpu().numpy()))\n",
        "\n",
        "    return [nn1, nn2], np.array(loss_evolution_1), np.array([interior_loss_1, interface_loss_1, interior_loss_2, interface_loss_2, boundary_loss])\n",
        "\n",
        "\n",
        "def check_gradient(nn: DenseResNet, x: torch.Tensor = None) -> bool:\n",
        "\n",
        "    eps = 1e-4\n",
        "    dfdx_fd = (f(nn, x + eps) - f(nn, x - eps)) / (2 * eps)\n",
        "    dfdx_sample = df(nn, x, order=1)\n",
        "\n",
        "    return torch.allclose(dfdx_fd.T, dfdx_sample.T, atol=1e-2, rtol=1e-2)\n",
        "\n",
        "\n"
      ]
    },
    {
      "cell_type": "code",
      "execution_count": null,
      "metadata": {
        "id": "hCoGGxurOMAM"
      },
      "outputs": [],
      "source": [
        "# nn_approximator_1 = NNApproximator(4, 10)\n",
        "# nn_approximator_2 = NNApproximator(2, 10)"
      ]
    },
    {
      "cell_type": "code",
      "execution_count": null,
      "metadata": {
        "id": "ysMjRbyMOL9S"
      },
      "outputs": [],
      "source": [
        "# from torchsummary import summary\n",
        "# print(nn_approximator_1)"
      ]
    },
    {
      "cell_type": "code",
      "execution_count": null,
      "metadata": {
        "id": "gPmkLu90aiKG"
      },
      "outputs": [],
      "source": [
        "# print(nn_approximator_2)"
      ]
    },
    {
      "cell_type": "code",
      "execution_count": null,
      "metadata": {
        "colab": {
          "base_uri": "https://localhost:8080/"
        },
        "id": "z9f-AzZIPeTf",
        "outputId": "0790da28-7228-4294-d149-d25b3125932b"
      },
      "outputs": [
        {
          "output_type": "execute_result",
          "data": {
            "text/plain": [
              "numpy.float32"
            ]
          },
          "metadata": {},
          "execution_count": 11
        }
      ],
      "source": [
        "type(X_f1_train[1, 0])"
      ]
    },
    {
      "cell_type": "markdown",
      "metadata": {
        "id": "5A8eyjpenOrO"
      },
      "source": [
        "## Train Pinns"
      ]
    },
    {
      "cell_type": "code",
      "execution_count": null,
      "metadata": {
        "id": "GJ1byIfJUH0Q",
        "colab": {
          "base_uri": "https://localhost:8080/"
        },
        "outputId": "c77e2231-bd38-451d-e7fc-9021bfde208e"
      },
      "outputs": [
        {
          "output_type": "stream",
          "name": "stdout",
          "text": [
            "Loss at 0: 1.6287052631378174, 0.3758058249950409,               domain: 2499.434326171875, 0.2835700809955597, 0.02582154981791973\n",
            "Epoch: 0 - Loss # 1: 2542.174805\n"
          ]
        },
        {
          "output_type": "stream",
          "name": "stderr",
          "text": [
            "WARNING:ray.tune.trainable.session:Session not detected. You should not be calling `report` outside `tuner.fit()` or while using the class API. \n",
            "WARNING:ray.tune.trainable.session:  File \"/usr/lib/python3.7/runpy.py\", line 193, in _run_module_as_main\n",
            "    \"__main__\", mod_spec)\n",
            "  File \"/usr/lib/python3.7/runpy.py\", line 85, in _run_code\n",
            "    exec(code, run_globals)\n",
            "  File \"/usr/local/lib/python3.7/dist-packages/ipykernel_launcher.py\", line 16, in <module>\n",
            "    app.launch_new_instance()\n",
            "  File \"/usr/local/lib/python3.7/dist-packages/traitlets/config/application.py\", line 846, in launch_instance\n",
            "    app.start()\n",
            "  File \"/usr/local/lib/python3.7/dist-packages/ipykernel/kernelapp.py\", line 612, in start\n",
            "    self.io_loop.start()\n",
            "  File \"/usr/local/lib/python3.7/dist-packages/tornado/platform/asyncio.py\", line 132, in start\n",
            "    self.asyncio_loop.run_forever()\n",
            "  File \"/usr/lib/python3.7/asyncio/base_events.py\", line 541, in run_forever\n",
            "    self._run_once()\n",
            "  File \"/usr/lib/python3.7/asyncio/base_events.py\", line 1786, in _run_once\n",
            "    handle._run()\n",
            "  File \"/usr/lib/python3.7/asyncio/events.py\", line 88, in _run\n",
            "    self._context.run(self._callback, *self._args)\n",
            "  File \"/usr/local/lib/python3.7/dist-packages/tornado/ioloop.py\", line 758, in _run_callback\n",
            "    ret = callback()\n",
            "  File \"/usr/local/lib/python3.7/dist-packages/tornado/stack_context.py\", line 300, in null_wrapper\n",
            "    return fn(*args, **kwargs)\n",
            "  File \"/usr/local/lib/python3.7/dist-packages/tornado/gen.py\", line 1233, in inner\n",
            "    self.run()\n",
            "  File \"/usr/local/lib/python3.7/dist-packages/tornado/gen.py\", line 1147, in run\n",
            "    yielded = self.gen.send(value)\n",
            "  File \"/usr/local/lib/python3.7/dist-packages/ipykernel/kernelbase.py\", line 381, in dispatch_queue\n",
            "    yield self.process_one()\n",
            "  File \"/usr/local/lib/python3.7/dist-packages/tornado/gen.py\", line 346, in wrapper\n",
            "    runner = Runner(result, future, yielded)\n",
            "  File \"/usr/local/lib/python3.7/dist-packages/tornado/gen.py\", line 1080, in __init__\n",
            "    self.run()\n",
            "  File \"/usr/local/lib/python3.7/dist-packages/tornado/gen.py\", line 1147, in run\n",
            "    yielded = self.gen.send(value)\n",
            "  File \"/usr/local/lib/python3.7/dist-packages/ipykernel/kernelbase.py\", line 365, in process_one\n",
            "    yield gen.maybe_future(dispatch(*args))\n",
            "  File \"/usr/local/lib/python3.7/dist-packages/tornado/gen.py\", line 326, in wrapper\n",
            "    yielded = next(result)\n",
            "  File \"/usr/local/lib/python3.7/dist-packages/ipykernel/kernelbase.py\", line 268, in dispatch_shell\n",
            "    yield gen.maybe_future(handler(stream, idents, msg))\n",
            "  File \"/usr/local/lib/python3.7/dist-packages/tornado/gen.py\", line 326, in wrapper\n",
            "    yielded = next(result)\n",
            "  File \"/usr/local/lib/python3.7/dist-packages/ipykernel/kernelbase.py\", line 545, in execute_request\n",
            "    user_expressions, allow_stdin,\n",
            "  File \"/usr/local/lib/python3.7/dist-packages/tornado/gen.py\", line 326, in wrapper\n",
            "    yielded = next(result)\n",
            "  File \"/usr/local/lib/python3.7/dist-packages/ipykernel/ipkernel.py\", line 306, in do_execute\n",
            "    res = shell.run_cell(code, store_history=store_history, silent=silent)\n",
            "  File \"/usr/local/lib/python3.7/dist-packages/ipykernel/zmqshell.py\", line 536, in run_cell\n",
            "    return super(ZMQInteractiveShell, self).run_cell(*args, **kwargs)\n",
            "  File \"/usr/local/lib/python3.7/dist-packages/IPython/core/interactiveshell.py\", line 2855, in run_cell\n",
            "    raw_cell, store_history, silent, shell_futures)\n",
            "  File \"/usr/local/lib/python3.7/dist-packages/IPython/core/interactiveshell.py\", line 2881, in _run_cell\n",
            "    return runner(coro)\n",
            "  File \"/usr/local/lib/python3.7/dist-packages/IPython/core/async_helpers.py\", line 68, in _pseudo_sync_runner\n",
            "    coro.send(None)\n",
            "  File \"/usr/local/lib/python3.7/dist-packages/IPython/core/interactiveshell.py\", line 3058, in run_cell_async\n",
            "    interactivity=interactivity, compiler=compiler, result=result)\n",
            "  File \"/usr/local/lib/python3.7/dist-packages/IPython/core/interactiveshell.py\", line 3249, in run_ast_nodes\n",
            "    if (await self.run_code(code, result,  async_=asy)):\n",
            "  File \"/usr/local/lib/python3.7/dist-packages/IPython/core/interactiveshell.py\", line 3326, in run_code\n",
            "    exec(code_obj, self.user_global_ns, self.user_ns)\n",
            "  File \"<ipython-input-12-f756bc40c045>\", line 88, in <module>\n",
            "    max_epochs=max_epochs\n",
            "  File \"<ipython-input-7-fcf492b2e239>\", line 169, in train_model\n",
            "    tune.report(loss=float(loss.detach().cpu().numpy()))\n",
            "\n"
          ]
        },
        {
          "output_type": "stream",
          "name": "stdout",
          "text": [
            "Epoch: 1000 - Loss # 1: 11.692210\n",
            "Loss at 2000: 0.9690212607383728, 0.02841896004974842,               domain: 0.2966275215148926, 0.01644969917833805, 0.0011648524086922407\n",
            "Epoch: 2000 - Loss # 1: 4.027659\n",
            "Epoch: 3000 - Loss # 1: 3.671658\n",
            "Loss at 4000: 0.5794100761413574, 0.10556917637586594,               domain: 0.30116894841194153, 0.04433486983180046, 0.001118010375648737\n",
            "Epoch: 4000 - Loss # 1: 9.941902\n",
            "Epoch: 5000 - Loss # 1: 6.953672\n",
            "Loss at 6000: 0.4599868357181549, 0.062290631234645844,               domain: 0.06616697460412979, 0.025241371244192123, 0.0012970411917194724\n",
            "Epoch: 6000 - Loss # 1: 5.855897\n",
            "Epoch: 7000 - Loss # 1: 4.797709\n",
            "Loss at 8000: 0.46041613817214966, 0.047908276319503784,               domain: 0.03860672190785408, 0.019293026998639107, 0.0013228768948465586\n",
            "Epoch: 8000 - Loss # 1: 4.610474\n",
            "Epoch: 9000 - Loss # 1: 3.428691\n",
            "Loss at 10000: 0.4662056267261505, 0.028394857421517372,               domain: 0.0220428928732872, 0.012205985374748707, 0.0013892932329326868\n",
            "Epoch: 10000 - Loss # 1: 3.007657\n",
            "Epoch: 11000 - Loss # 1: 4.055683\n",
            "Loss at 12000: 0.48245805501937866, 0.032553356140851974,               domain: 0.13258059322834015, 0.013656368479132652, 0.0015726108103990555\n",
            "Epoch: 12000 - Loss # 1: 3.481979\n",
            "Epoch: 13000 - Loss # 1: 2.332582\n",
            "Loss at 14000: 0.4803465008735657, 0.017273420467972755,               domain: 0.07730425894260406, 0.008394364267587662, 0.0016448749229311943\n",
            "Epoch: 14000 - Loss # 1: 2.196410\n",
            "Epoch: 15000 - Loss # 1: 2.420918\n",
            "Loss at 16000: 0.46713659167289734, 0.010153442621231079,               domain: 0.11294806748628616, 0.005465751513838768, 0.0015447745099663734\n",
            "Epoch: 16000 - Loss # 1: 1.609923\n",
            "Epoch: 17000 - Loss # 1: 1.482516\n",
            "Loss at 18000: 0.4642258286476135, 0.011144045740365982,               domain: 0.2029591202735901, 0.0059125241823494434, 0.0015889459755271673\n",
            "Epoch: 18000 - Loss # 1: 1.785916\n",
            "Epoch: 19000 - Loss # 1: 1.478543\n",
            "Loss at 20000: 0.4566894471645355, 0.010736886411905289,               domain: 0.016280103474855423, 0.005743242334574461, 0.0016329995123669505\n",
            "Epoch: 20000 - Loss # 1: 1.559757\n",
            "Epoch: 21000 - Loss # 1: 1.603367\n",
            "Loss at 22000: 0.45148661732673645, 0.010386252775788307,               domain: 0.018168721348047256, 0.005622508004307747, 0.0016681018751114607\n",
            "Epoch: 22000 - Loss # 1: 1.530267\n",
            "Epoch: 23000 - Loss # 1: 1.061752\n",
            "Loss at 24000: 0.44826093316078186, 0.009093654341995716,               domain: 0.05368822440505028, 0.0052635446190834045, 0.0017268055817112327\n",
            "Epoch: 24000 - Loss # 1: 1.466989\n",
            "Epoch: 25000 - Loss # 1: 1.082467\n",
            "Loss at 26000: 0.44434449076652527, 0.008250845596194267,               domain: 0.297641396522522, 0.004884184803813696, 0.0017026469577103853\n",
            "Epoch: 26000 - Loss # 1: 1.632246\n",
            "Epoch: 27000 - Loss # 1: 1.253165\n",
            "Loss at 28000: 0.43933117389678955, 0.006484190002083778,               domain: 0.04893383011221886, 0.004037939943373203, 0.001663411851041019\n",
            "Epoch: 28000 - Loss # 1: 1.219398\n",
            "Epoch: 29000 - Loss # 1: 1.262103\n",
            "Finished Training\n"
          ]
        }
      ],
      "source": [
        "from functools import partial\n",
        "import os\n",
        "\n",
        "# domain = [0.0, 1.0]\n",
        "# x = torch.linspace(domain[0], domain[1], steps=10, requires_grad=True)\n",
        "# x = x.reshape(x.shape[0], 1)\n",
        "\n",
        "#def train_PINN(config = {}, checkpoint_dir=None):\n",
        "\n",
        "# Hyperparameter Tuning\n",
        "# nn_approximator_1 = NNApproximator(config[\"l1\"], config[\"l2\"], config[\"activation\"])\n",
        "# nn_approximator_2 = NNApproximator(config[\"l1\"], config[\"l2\"], config[\"activation\"])\n",
        "# multiplier = config[\"multiplier\"]\n",
        "# lr = config[\"lr\"]\n",
        "# max_epochs = config[\"epochs\"]\n",
        "\n",
        "# Hyperparameters\n",
        "# nn_approximator_1 = NNApproximator(2, 32, nn.Sigmoid())\n",
        "# nn_approximator_2 = NNApproximator(2, 32, nn.Sigmoid())\n",
        "DenseResNet\n",
        "nn_approximator_1 = DenseResNet(dim_in=2, dim_out=1, num_resnet_blocks=3, \n",
        "                        num_layers_per_block=2, num_neurons=50, activation=nn.Sigmoid(), \n",
        "                        fourier_features=False, m_freqs=100, sigma=10, tune_beta=False)\n",
        "nn_approximator_2 = DenseResNet(dim_in=2, dim_out=1, num_resnet_blocks=3, \n",
        "                        num_layers_per_block=2, num_neurons=50, activation=nn.Sigmoid(), \n",
        "                        fourier_features=False, m_freqs=100, sigma=10, tune_beta=False)\n",
        "multiplier = 60\n",
        "lr = 0.0621\n",
        "max_epochs = 30000\n",
        "\n",
        "\n",
        "\n",
        "device = \"cpu\"\n",
        "if torch.cuda.is_available():\n",
        "    device = \"cuda:0\"\n",
        "    if torch.cuda.device_count() > 1:\n",
        "        nn_approximator_1 = nn.DataParallel(nn_approximator_1)\n",
        "        nn_approximator_2 = nn.DataParallel(nn_approximator_2)\n",
        "nn_approximator_1.to(device)\n",
        "nn_approximator_2.to(device)\n",
        "\n",
        "x1 = torch.tensor(X_f1_train, requires_grad=True)\n",
        "x2 = torch.tensor(X_f2_train, requires_grad=True) \n",
        "xi = torch.tensor(X_fi_train, requires_grad=True) \n",
        "xb = torch.tensor(X_ub_train, requires_grad=True)\n",
        "ub = torch.tensor(ub_train)\n",
        "ub = torch.zeros_like(ub)\n",
        "ufi = torch.tensor(ub_fi1_train)\n",
        "\n",
        "x1 = x1.to(device)\n",
        "x2 = x2.to(device)\n",
        "xi = xi.to(device)\n",
        "xb = xb.to(device)\n",
        "ub = ub.to(device)\n",
        "ufi = ufi.to(device)\n",
        "\n",
        "#rint(f\"Device x1 is stored on: {x1.device}\")\n",
        "#print(f\"Device x2 is stored on: {x2.device}\")\n",
        "\n",
        "\n",
        "# assert check_gradient(nn_approximator, x)\n",
        "\n",
        "# f_initial = f(nn_approximator, x)\n",
        "# ax.plot(x.detach().numpy(), f_initial.detach().numpy(), label=\"Initial NN solution\")\n",
        "\n",
        "# if checkpoint_dir:\n",
        "#   model_state = torch.load(\n",
        "#       os.path.join(checkpoint_dir, \"checkpoint\"))\n",
        "#   net.load_state_dict(model_state)\n",
        "  # optimizer.load_state_dict(optimizer_state)\n",
        "\n",
        "# train the PINN\n",
        "loss_fn = partial(compute_loss,     \n",
        "                  x1 = x1, \n",
        "                  x2 = x2, \n",
        "                  xi = xi, \n",
        "                  xb = xb, \n",
        "                  ub = ub,\n",
        "                  ufi = ufi,\n",
        "                  mult = multiplier,\n",
        "                  verbose=True)\n",
        "\n",
        "nn_approximator_trained, loss_evolutions, loss_array = train_model(\n",
        "                                                                  nn_approximator_1,\n",
        "                                                                  nn_approximator_2,\n",
        "                                                                  loss_fn=loss_fn, \n",
        "                                                                  learning_rate=lr, \n",
        "                                                                  max_epochs=max_epochs\n",
        "                                                                )\n",
        "\n",
        "print(\"Finished Training\")\n",
        "\n",
        "# x_eval = torch.linspace(domain[0], domain[1], steps=100).reshape(-1, 1)"
      ]
    },
    {
      "cell_type": "code",
      "execution_count": null,
      "metadata": {
        "id": "hnBNYe9EFJ9U"
      },
      "outputs": [],
      "source": [
        "train_PINN()"
      ]
    },
    {
      "cell_type": "markdown",
      "metadata": {
        "id": "69bkjgeVyi-x"
      },
      "source": [
        "# Hyper-Parameter Tuning"
      ]
    },
    {
      "cell_type": "code",
      "execution_count": null,
      "metadata": {
        "id": "-iYDv3gFj4Fm"
      },
      "outputs": [],
      "source": [
        "from tensorflow.python.client import device_lib\n",
        "device_lib.list_local_devices()"
      ]
    },
    {
      "cell_type": "code",
      "execution_count": null,
      "metadata": {
        "id": "ggjaXxWOyiMB"
      },
      "outputs": [],
      "source": [
        "max_num_epochs = 60000\n",
        "num_samples = 30\n",
        "gpus_per_trial = 1\n",
        "cpus_per_trial = 2\n",
        "\n",
        "config = {\n",
        "        \"l1\": tune.sample_from(lambda _: np.random.randint(2, 6)),\n",
        "        \"l2\": tune.sample_from(lambda _: 2 ** np.random.randint(4, 9)),\n",
        "        \"activation\": tune.grid_search([nn.Sigmoid(), nn.Tanh()]),\n",
        "        \"lr\": tune.loguniform(1e-4, 1e-1),\n",
        "        \"multiplier\": tune.grid_search([20, 40, 60, 90]),\n",
        "        \"epochs\": tune.grid_search([30000, 45000, 60000])\n",
        "    }\n",
        "\n",
        "scheduler = ASHAScheduler(\n",
        "        metric=\"loss\",\n",
        "        mode=\"min\",\n",
        "        max_t=max_num_epochs,\n",
        "        grace_period=1,\n",
        "        reduction_factor=2)\n",
        "\n",
        "reporter = CLIReporter(\n",
        "    # parameter_columns=[\"l1\", \"l2\", \"lr\", \"batch_size\"],\n",
        "    metric_columns=[\"loss\", \"training_iteration\"])\n",
        "\n",
        "result = tune.run(\n",
        "    partial(train_PINN),\n",
        "    resources_per_trial={\"cpu\": cpus_per_trial, \"gpu\": gpus_per_trial},\n",
        "    config=config,\n",
        "    num_samples=num_samples,\n",
        "    scheduler=scheduler,\n",
        "    progress_reporter=reporter)\n",
        "\n",
        "best_trial = result.get_best_trial(metric = \"loss\", mode = \"min\")\n",
        "print(\"Best trial config: {}\".format(best_trial.config))\n",
        "print(\"Best trial final loss: {}\".format(best_trial.last_result[\"loss\"]))"
      ]
    },
    {
      "cell_type": "code",
      "execution_count": null,
      "metadata": {
        "id": "5ed87noSWuhb"
      },
      "outputs": [],
      "source": [
        "best_trial = result.get_best_trial(\"loss\", \"min\", \"last\")\n",
        "print(best_trial)"
      ]
    },
    {
      "cell_type": "markdown",
      "metadata": {
        "id": "4h4G5qlxVHRw"
      },
      "source": [
        "# Plotting Each losses\n"
      ]
    },
    {
      "cell_type": "code",
      "execution_count": null,
      "metadata": {
        "id": "iwDpdmH--ITA",
        "colab": {
          "base_uri": "https://localhost:8080/",
          "height": 1000
        },
        "outputId": "eb4ebe36-c452-471b-8771-a74f6eac44ef"
      },
      "outputs": [
        {
          "output_type": "display_data",
          "data": {
            "text/plain": [
              "<Figure size 720x504 with 1 Axes>"
            ],
            "image/png": "[encoded data removed]"
          },
          "metadata": {
            "needs_background": "light"
          }
        },
        {
          "output_type": "display_data",
          "data": {
            "text/plain": [
              "<Figure size 864x576 with 1 Axes>"
            ],
            "image/png": "[encoded data removed]"
          },
          "metadata": {
            "needs_background": "light"
          }
        },
        {
          "output_type": "display_data",
          "data": {
            "text/plain": [
              "<Figure size 864x576 with 1 Axes>"
            ],
            "image/png": "[encoded data removed]"
          },
          "metadata": {
            "needs_background": "light"
          }
        },
        {
          "output_type": "display_data",
          "data": {
            "text/plain": [
              "<Figure size 864x576 with 1 Axes>"
            ],
            "image/png": "[encoded data removed]"
          },
          "metadata": {
            "needs_background": "light"
          }
        },
        {
          "output_type": "display_data",
          "data": {
            "text/plain": [
              "<Figure size 864x576 with 1 Axes>"
            ],
            "image/png": "[encoded data removed]"
          },
          "metadata": {
            "needs_background": "light"
          }
        }
      ],
      "source": [
        "fig = plt.figure(figsize=(10, 7))\n",
        "\n",
        "plt.plot(loss_array[0, :])\n",
        "plt.title('interior_loss_1')\n",
        "plt.show()\n",
        "\n",
        "fig = plt.figure(figsize=(12, 8))\n",
        "\n",
        "plt.plot(loss_array[1, :])\n",
        "plt.title('interface_loss_1')\n",
        "plt.show()\n",
        "\n",
        "fig = plt.figure(figsize=(12, 8))\n",
        "\n",
        "plt.plot(loss_array[2, :])\n",
        "plt.title('interior_loss_2')\n",
        "plt.show()\n",
        "\n",
        "fig = plt.figure(figsize=(12, 8))\n",
        "\n",
        "plt.plot(loss_array[3, :])\n",
        "plt.title('interface_loss_2')\n",
        "\n",
        "plt.show()\n",
        "\n",
        "fig = plt.figure(figsize=(12, 8))\n",
        "\n",
        "plt.plot(loss_array[4, :])\n",
        "plt.title('boundary_loss')\n",
        "\n",
        "plt.show()"
      ]
    },
    {
      "cell_type": "markdown",
      "metadata": {
        "id": "FMl9kP_5sW81"
      },
      "source": [
        "# Predict Output\n"
      ]
    },
    {
      "cell_type": "code",
      "execution_count": null,
      "metadata": {
        "id": "pHqas7rOsWos"
      },
      "outputs": [],
      "source": [
        "# Solution prediction\n",
        "\n",
        "nn1_trained = nn_approximator_trained[0].cpu()\n",
        "nn2_trained = nn_approximator_trained[1].cpu()\n",
        "\n",
        "u_pred1 = nn1_trained(torch.tensor(np.float32(X_f1))).detach().numpy()\n",
        "u_pred2 = nn2_trained(torch.tensor(np.float32(X_f2))).detach().numpy()\n",
        "\n",
        "u_pred_i1 = nn1_trained(torch.tensor(np.float32(X_fi))).detach().numpy()\n",
        "u_pred_i2 = nn2_trained(torch.tensor(np.float32(X_fi))).detach().numpy()\n",
        "\n",
        "u_pred_b = nn2_trained(torch.tensor(np.float32(X_ub))).detach().numpy()\n",
        "\n",
        "u_pred = np.concatenate([u_pred1, u_pred2, (u_pred_i1 + u_pred_i2)/2, u_pred_b])"
      ]
    },
    {
      "cell_type": "code",
      "execution_count": null,
      "metadata": {
        "id": "N_fGZFqptalb"
      },
      "outputs": [],
      "source": [
        "# u_exact1 = data['u_domain'].flatten()[:,None]\n",
        "# u_exact2 = data['u_coil'].flatten()[:,None]\n",
        "\n",
        "# u_exacti = data['u_i'].flatten()[:,None]\n",
        "\n",
        "# u_exact = np.concatenate([u_exact1, u_exact2, u_exacti, u_boundary])\n"
      ]
    },
    {
      "cell_type": "code",
      "execution_count": null,
      "metadata": {
        "id": "KhRLoEL_HdAW"
      },
      "outputs": [],
      "source": [
        "# u_exact1 = np.divide(u_exact1, u_exact.max())\n",
        "# print(u_exact1.max(), u_exact1.min())"
      ]
    },
    {
      "cell_type": "code",
      "execution_count": null,
      "metadata": {
        "id": "-UlJT4Kv_aRc"
      },
      "outputs": [],
      "source": [
        "# u_exact2 = np.divide(u_exact2, u_exact.max())\n",
        "# print(u_exact2.max(), u_exact2.min())"
      ]
    },
    {
      "cell_type": "code",
      "execution_count": null,
      "metadata": {
        "id": "kIG6wm_i_mCC"
      },
      "outputs": [],
      "source": [
        "# u_exacti = np.divide(u_exacti, u_exact.max())\n",
        "# print(u_exacti.max(), u_exacti.min())"
      ]
    },
    {
      "cell_type": "code",
      "execution_count": null,
      "metadata": {
        "id": "Iv6n9aGS_6aa"
      },
      "outputs": [],
      "source": [
        "# u_boundary = np.divide(u_boundary, u_exact.max())\n",
        "# print(u_boundary.max(), u_boundary.min())"
      ]
    },
    {
      "cell_type": "code",
      "execution_count": null,
      "metadata": {
        "id": "ef_W3zIQAi54"
      },
      "outputs": [],
      "source": [
        "# u_exact = np.concatenate([u_exact1, u_exact2, u_exacti, u_boundary])\n"
      ]
    },
    {
      "cell_type": "markdown",
      "metadata": {
        "id": "_xvhiGYmAo39"
      },
      "source": [
        "## Max values\n",
        "\n",
        "u max: 2.2\n",
        "\n",
        "u min: 0\n"
      ]
    },
    {
      "cell_type": "code",
      "execution_count": null,
      "metadata": {
        "id": "cFAktAlPt4wI",
        "colab": {
          "base_uri": "https://localhost:8080/"
        },
        "outputId": "190b4b34-7d9d-488a-95d7-4a4573e63f44"
      },
      "outputs": [
        {
          "output_type": "stream",
          "name": "stdout",
          "text": [
            "(2693, 1) (2693, 1) (2693, 1) (2693, 1)\n"
          ]
        }
      ],
      "source": [
        "x_tot = np.concatenate([x_f1, x_f2, x_i, x_boundary])\n",
        "y_tot = np.concatenate([y_f1, y_f2, y_i, y_boundary])\n",
        "print(x_tot.shape, y_tot.shape, u_pred.shape, u_exact.shape)"
      ]
    },
    {
      "cell_type": "markdown",
      "metadata": {
        "id": "ax9vOxDx5yfd"
      },
      "source": [
        "# Plotting Contours\n"
      ]
    },
    {
      "cell_type": "code",
      "execution_count": null,
      "metadata": {
        "id": "5huOum4qtuua",
        "colab": {
          "base_uri": "https://localhost:8080/",
          "height": 460
        },
        "outputId": "4930560f-b7ff-447b-cbac-83f8ab0b5b43"
      },
      "outputs": [
        {
          "output_type": "display_data",
          "data": {
            "text/plain": [
              "<Figure size 1872x720 with 4 Axes>"
            ],
            "image/png": "[encoded data removed]"
          },
          "metadata": {
            "needs_background": "light"
          }
        }
      ],
      "source": [
        "import matplotlib.pyplot as plt\n",
        "import matplotlib.tri as tri\n",
        "import numpy as np\n",
        "\n",
        "\n",
        "np.random.seed(19680801)\n",
        "npts = 200\n",
        "ngridx = 100\n",
        "ngridy = 200\n",
        "x = x_tot.squeeze()\n",
        "y = y_tot.squeeze()\n",
        "up = u_pred.squeeze()\n",
        "uex = u_exact.squeeze()\n",
        "\n",
        "fig, (ax1, ax2) = plt.subplots(1,2,figsize=(26,10))\n",
        "vmin=0\n",
        "vmax=2.2\n",
        "\n",
        "## True Exact\n",
        "# ax2.tricontour(x, y, z, levels=20, linewidths=0.5, colors='k')\n",
        "cntr1 = ax1.tricontourf(x, y, uex, levels=20, vmin=vmin, vmax=vmax, cmap=\"jet\")\n",
        "\n",
        "fig.colorbar(cntr1, ax=ax1)\n",
        "# ax2.plot(x, y, 'ko', ms=3)\n",
        "ax1.set(xlim=(-1, 1), ylim=(-1, 1))\n",
        "ax1.set_title('Exact')\n",
        "\n",
        "\n",
        "## Predictions\n",
        "# ax2.tricontour(x, y, z, levels=20, linewidths=0.5, colors='k')\n",
        "cntr2 = ax2.tricontourf(x, y, up, levels=20, vmin=vmin, vmax=vmax, cmap=\"jet\")\n",
        "\n",
        "fig.colorbar(cntr2, ax=ax2)\n",
        "# ax2.plot(x, y, 'ko', ms=3)\n",
        "ax2.set(xlim=(-1, 1), ylim=(-1, 1))\n",
        "ax2.set_title('Prediction')\n",
        "\n",
        "plt.subplots_adjust(hspace=0.5)\n",
        "# plt.savefig('exact_pred_TL_20points.png', dpi=400)\n",
        "plt.show()"
      ]
    },
    {
      "cell_type": "markdown",
      "metadata": {
        "id": "PVUoKx0sNvhQ"
      },
      "source": [
        "## Rough"
      ]
    },
    {
      "cell_type": "code",
      "execution_count": null,
      "metadata": {
        "id": "L1ghiYO8m_C8"
      },
      "outputs": [],
      "source": [
        "# # numeric solution\n",
        "# def logistic_eq_fn(x, y):\n",
        "#     return R * x * (1 - x)\n",
        "\n",
        "# numeric_solution = solve_ivp(\n",
        "#     logistic_eq_fn, domain, [F0], t_eval=x_eval.squeeze().detach().numpy()\n",
        "# )\n",
        "\n",
        "# # plotting\n",
        "# fig, ax = plt.subplots()\n",
        "\n",
        "# f_final_training = f(nn_approximator_trained, x)\n",
        "# f_final = f(nn_approximator_trained, x_eval)\n",
        "\n",
        "# ax.scatter(x.detach().numpy(), f_final_training.detach().numpy(), label=\"Training points\", color=\"red\")\n",
        "# ax.plot(x_eval.detach().numpy(), f_final.detach().numpy(), label=\"NN final solution\")\n",
        "# ax.plot(\n",
        "#     x_eval.detach().numpy(),\n",
        "#     numeric_solution.y.T,\n",
        "#     label=f\"Analytic solution\",\n",
        "#     color=\"green\",\n",
        "#     alpha=0.75,\n",
        "# )\n",
        "# ax.set(title=\"Logistic equation solved with NNs\", xlabel=\"t\", ylabel=\"f(t)\")\n",
        "# ax.legend()\n",
        "\n",
        "# fig, ax = plt.subplots()\n",
        "# ax.semilogy(loss_evolution)\n",
        "# ax.set(title=\"Loss evolution\", xlabel=\"# epochs\", ylabel=\"Loss\")\n",
        "# ax.legend()\n",
        "\n",
        "# plt.show()"
      ]
    }
  ],
  "metadata": {
    "colab": {
      "collapsed_sections": [],
      "name": "pinns_magnetostatic_poisson_v2.ipynb",
      "provenance": [],
      "include_colab_link": true
    },
    "gpuClass": "standard",
    "kernelspec": {
      "display_name": "Python 3",
      "name": "python3"
    },
    "language_info": {
      "name": "python"
    }
  },
  "nbformat": 4,
  "nbformat_minor": 0
}