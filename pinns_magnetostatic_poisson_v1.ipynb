{
  "nbformat": 4,
  "nbformat_minor": 0,
  "metadata": {
    "colab": {
      "name": "pinns_magnetostatic_poisson_v1.ipynb",
      "provenance": [],
      "collapsed_sections": [],
      "include_colab_link": true
    },
    "kernelspec": {
      "name": "python3",
      "display_name": "Python 3"
    },
    "language_info": {
      "name": "python"
    },
    "accelerator": "GPU",
    "gpuClass": "standard"
  },
  "cells": [
    {
      "cell_type": "markdown",
      "metadata": {
        "id": "view-in-github",
        "colab_type": "text"
      },
      "source": [
        "<a href=\"https://colab.research.google.com/github/Mushfique12/IGTE/blob/main/pinns_magnetostatic_poisson_v1.ipynb\" target=\"_parent\"><img src=\"https://colab.research.google.com/assets/colab-badge.svg\" alt=\"Open In Colab\"/></a>"
      ]
    },
    {
      "cell_type": "code",
      "source": [
        "from typing import Callable\n",
        "\n",
        "import matplotlib.pyplot as plt\n",
        "import torch\n",
        "from scipy.integrate import solve_ivp\n",
        "from torch import nn\n",
        "import numpy as np\n",
        "import scipy.io\n",
        "import time"
      ],
      "metadata": {
        "id": "b9DB7gEOm2fx"
      },
      "execution_count": 93,
      "outputs": []
    },
    {
      "cell_type": "code",
      "execution_count": 94,
      "metadata": {
        "id": "HqBuaOv7T8cN"
      },
      "outputs": [],
      "source": [
        "R = 1.0\n",
        "F0 = 1.0\n",
        "\n",
        "class NNApproximator(nn.Module):\n",
        "    def __init__(self, num_hidden: int, dim_hidden: int, act=nn.Sigmoid()):\n",
        "\n",
        "        super().__init__()\n",
        "\n",
        "        self.layer_in = nn.Linear(2, dim_hidden)\n",
        "        self.layer_out = nn.Linear(dim_hidden, 1)\n",
        "\n",
        "        num_middle = num_hidden - 1\n",
        "        self.middle_layers = nn.ModuleList(\n",
        "            [nn.Linear(dim_hidden, dim_hidden) for _ in range(num_middle)]\n",
        "        )\n",
        "        self.act = act\n",
        "\n",
        "    def forward(self, x):\n",
        "        out = self.act(self.layer_in(x))\n",
        "        for layer in self.middle_layers:\n",
        "            out = self.act(layer(out))\n",
        "        return self.act(self.layer_out(out))\n",
        "\n",
        "\n",
        "def f(nn: NNApproximator, x: torch.Tensor) -> torch.Tensor:\n",
        "    \"\"\"Compute the value of the approximate solution from the NN model\"\"\"\n",
        "    return nn(x)\n",
        "\n",
        "\n",
        "def df(nn: NNApproximator, x: torch.Tensor = None, order: int = 2) -> torch.Tensor:\n",
        "    \"\"\"Compute neural network derivative with respect to input features using PyTorch autograd engine\"\"\"\n",
        "    df_value = f(nn, x)\n",
        "    # print('x.shape', x.shape)\n",
        "    # output_dim = [int(x.shape[0]), 1]\n",
        "    # print('output_dim', output_dim)\n",
        "    # output_ = torch.ones(output_dim)\n",
        "    # print('output_shape', output_.shape)\n",
        "\n",
        "    for _ in range(order):\n",
        "        df_value = torch.autograd.grad(\n",
        "            df_value,\n",
        "            x,\n",
        "            # grad_outputs=torch.ones(output_dim),\n",
        "            torch.ones_like(df_value),\n",
        "            # grad_outputs=torch.ones_like(x),\n",
        "            create_graph=True,\n",
        "            retain_graph=True,\n",
        "        )[0]\n",
        "\n",
        "    return df_value\n",
        "\n",
        "\n",
        "def compute_loss(\n",
        "    nn1: NNApproximator, \n",
        "    nn2: NNApproximator, \n",
        "    epoch : int = 0,\n",
        "    x1: torch.Tensor = None, \n",
        "    x2: torch.Tensor = None, \n",
        "    xi: torch.Tensor = None, \n",
        "    xb: torch.Tensor = None, \n",
        "    ub: torch.Tensor = None,\n",
        "    ufi: torch.Tensor = None,\n",
        "    verbose: bool = False\n",
        ") -> torch.float:\n",
        "\n",
        "    \"\"\"Compute the full loss function as interior loss + boundary loss\n",
        "    This custom loss function is fully defined with differentiable tensors therefore\n",
        "    the .backward() method can be applied to it\n",
        "    \"\"\"\n",
        "    multiplier = 40\n",
        "    interior_loss_1 = torch.sub(df(nn1, x1, order=2), torch.exp(x1))\n",
        "    interior_loss_2 = torch.sub(df(nn2, x2, order=2), -50)\n",
        "\n",
        "    u1_i = f(nn1, xi)\n",
        "    u2_i = f(nn2, xi)\n",
        "    uAvg_i = torch.mul(torch.add(u1_i, u2_i), 2)\n",
        "\n",
        "    interface_loss_1 = torch.sub(uAvg_i, u1_i)\n",
        "    interface_loss_2 = torch.sub(uAvg_i, u2_i)\n",
        "\n",
        "    actual_interface_loss_1 = torch.sub(ufi, u1_i)\n",
        "    actual_interface_loss_2 = torch.sub(ufi, u2_i)\n",
        "\n",
        "    # Interface 1\n",
        "    interface_1 = df(nn1, xi, order=2)\n",
        "    interface_2 = df(nn2, xi, order=2)\n",
        "\n",
        "    # Residual Continuity conditions on the interfaces\n",
        "    res_loss = (interface_1 - torch.exp(xi)) - (interface_2 - (-50))\n",
        "    \n",
        "    # boundary = xb\n",
        "    # boundary.requires_grad = True\n",
        "    ub_pred = f(nn1, xb)\n",
        "    boundary_loss = torch.sub(ub, ub_pred)\n",
        "\n",
        "    if epoch % 2000 == 0:\n",
        "\n",
        "      print(f\"Loss at {epoch}: {interior_loss_1.pow(2).mean()}, {interface_loss_1.pow(2).mean()}, \\\n",
        "              domain: {interior_loss_2.pow(2).mean()}, {interface_loss_2.pow(2).mean()}, {boundary_loss.pow(2).mean()}\")\n",
        "\n",
        "\n",
        "    loss_1 = \\\n",
        "        interior_loss_1.pow(2).mean() + \\\n",
        "        multiplier * interface_loss_1.pow(2).mean() + \\\n",
        "        multiplier * boundary_loss.pow(2).mean() + \\\n",
        "        multiplier * actual_interface_loss_1.pow(2).mean() #+ \\\n",
        "        #res_loss.pow(2).mean()\n",
        "\n",
        "    loss_2 = \\\n",
        "        interior_loss_2.pow(2).mean() + \\\n",
        "        multiplier * interface_loss_2.pow(2).mean() + \\\n",
        "        multiplier * actual_interface_loss_2.pow(2).mean() #+ \\\n",
        "        #res_loss.pow(2).mean()\n",
        "\n",
        "    final_loss = loss_1 + loss_2\n",
        "\n",
        "    loss_list = [interior_loss_1.pow(2).mean().detach().numpy(), \n",
        "              interface_loss_1.pow(2).mean().detach().numpy(), \n",
        "              interior_loss_2.pow(2).mean().detach().numpy(), \n",
        "              interface_loss_2.pow(2).mean().detach().numpy(), \n",
        "              boundary_loss.pow(2).mean().detach().numpy()]\n",
        "\n",
        "    return final_loss, loss_list\n",
        "\n",
        "\n",
        "def train_model(\n",
        "    nn1: NNApproximator, \n",
        "    nn2: NNApproximator, \n",
        "    loss_fn: Callable,\n",
        "    learning_rate: int = 0.01,\n",
        "    max_epochs: int = 1000,\n",
        "):\n",
        "\n",
        "    loss_evolution_1, loss_evolution_2 = [], []\n",
        "    interior_loss_1, interface_loss_1, interior_loss_2, interface_loss_2, boundary_loss= [], [], [], [], []\n",
        "\n",
        "    optimizer = torch.optim.NAdam([\n",
        "                {'params': nn1.parameters(), 'lr': learning_rate},\n",
        "                {'params': nn2.parameters(), 'lr': learning_rate}\n",
        "            ])\n",
        "\n",
        "    for epoch in range(max_epochs):\n",
        "\n",
        "        try:\n",
        "            loss, loss_list = loss_fn(nn1, nn2, epoch)\n",
        "            optimizer.zero_grad()\n",
        "            loss.backward()\n",
        "            optimizer.step()\n",
        "\n",
        "            if epoch % 1000 == 0:\n",
        "                print(f\"Epoch: {epoch} - Loss # 1: {float(loss):>7f}\")\n",
        "\n",
        "            loss_evolution_1.append(loss.detach().numpy())\n",
        "\n",
        "        except KeyboardInterrupt:\n",
        "            break\n",
        "\n",
        "        interior_loss_1.append(loss_list[0]) \n",
        "        interface_loss_1.append(loss_list[1]) \n",
        "        interior_loss_2.append(loss_list[2]) \n",
        "        interface_loss_2.append(loss_list[3]) \n",
        "        boundary_loss.append(loss_list[4]) \n",
        "\n",
        "    return [nn1, nn2], np.array(loss_evolution_1), np.array([interior_loss_1, interface_loss_1, interior_loss_2, interface_loss_2, boundary_loss])\n",
        "\n",
        "\n",
        "def check_gradient(nn: NNApproximator, x: torch.Tensor = None) -> bool:\n",
        "\n",
        "    eps = 1e-4\n",
        "    dfdx_fd = (f(nn, x + eps) - f(nn, x - eps)) / (2 * eps)\n",
        "    dfdx_sample = df(nn, x, order=1)\n",
        "\n",
        "    return torch.allclose(dfdx_fd.T, dfdx_sample.T, atol=1e-2, rtol=1e-2)\n",
        "\n",
        "\n"
      ]
    },
    {
      "cell_type": "markdown",
      "source": [
        "## Load data"
      ],
      "metadata": {
        "id": "0UGOnlnqnMiK"
      }
    },
    {
      "cell_type": "code",
      "source": [
        "# Boundary points from subdomian 1\n",
        "N_ub   = 250\n",
        "\n",
        "# Residual points in three subdomains\n",
        "N_f1   = 500\n",
        "N_f2   = 200\n",
        "\n",
        "# Interface points along the two interfaces\n",
        "N_I1   = 150\n",
        "\n",
        "# NN architecture in each subdomain\n",
        "layers1 = [2, 400, 400, 100, 1]\n",
        "# layers2 = [2, 400, 200, 100, 100, 1]\n",
        "layers2 = [2, 100, 100, 40, 1]\n",
        "\n",
        "mu1 = 1\n",
        "mu2 = 1\n",
        "\n",
        "Max_iter = 5000\n",
        "\n",
        "# Load training data (boundary points), residual and interface points from .mat file\n",
        "# All points are generated in Matlab\n",
        "data = scipy.io.loadmat('/content/PINN_Lin_mat.mat')\n",
        "\n"
      ],
      "metadata": {
        "id": "usi6SCW8USlP"
      },
      "execution_count": 95,
      "outputs": []
    },
    {
      "cell_type": "code",
      "source": [
        "x_f1 = data['x_domain'].flatten()[:,None]\n",
        "y_f1 = data['y_domain'].flatten()[:,None]\n",
        "x_f2 = data['x_coil'].flatten()[:,None]\n",
        "y_f2 = data['y_coil'].flatten()[:,None]\n",
        "\n",
        "x_i  = data['x_i'].flatten()[:,None]\n",
        "y_i  = data['y_i'].flatten()[:,None]\n",
        "\n",
        "x_boundary   = data['x_boundary'].flatten()[:,None]\n",
        "y_boundary   = data['y_boundary'].flatten()[:,None]\n",
        "\n",
        "u_boundary  = data['u_boundary'].flatten()[:,None]\n",
        "\n",
        "u_exact1 = data['u_domain'].flatten()[:,None]\n",
        "u_exact2 = data['u_coil'].flatten()[:,None]\n",
        "\n",
        "u_exacti = data['u_i'].flatten()[:,None]\n",
        "\n",
        "u_exact = np.concatenate([u_exact1, u_exact2, u_exacti, u_boundary])\n",
        "\n",
        "u_exact1 = np.divide(u_exact1, u_exact.max())\n",
        "\n",
        "u_exact2 = np.divide(u_exact2, u_exact.max())\n",
        "\n",
        "u_exacti = np.divide(u_exacti, u_exact.max())\n",
        "\n",
        "u_boundary = np.divide(u_boundary, u_exact.max())\n",
        "\n",
        "\n",
        "X_f1 = np.hstack((x_f1.flatten()[:,None], y_f1.flatten()[:,None]))\n",
        "X_f2 = np.hstack((x_f2.flatten()[:,None], y_f2.flatten()[:,None]))\n",
        "\n",
        "X_fi = np.hstack((x_i.flatten()[:,None], y_i.flatten()[:,None]))\n",
        "\n",
        "X_ub = np.hstack((x_boundary.flatten()[:,None], y_boundary.flatten()[:,None]))\n",
        "\n",
        "# Points in the whole  domain\n",
        "# x_total =  data['x_total'].flatten()[:,None] \n",
        "# y_total =  data['y_total'].flatten()[:,None]\n",
        "\n",
        "# X_star1 = np.hstack((x_f1.flatten()[:,None], y_f1.flatten()[:,None]))\n",
        "# X_star2 = np.hstack((x_f2.flatten()[:,None], y_f2.flatten()[:,None]))\n",
        "\n",
        "# Randomly select the residual points from sub-domains\n",
        "idx1 = np.random.choice(X_f1.shape[0], N_f1, replace=False)    \n",
        "X_f1_train = np.float32(X_f1[idx1,:])\n",
        "\n",
        "idx2 = np.random.choice(X_f2.shape[0], N_f2, replace=False)    \n",
        "X_f2_train = np.float32(X_f2[idx2,:])\n",
        "\n",
        "# Randomly select boundary points\n",
        "idx4 = np.random.choice(X_ub.shape[0], N_ub, replace=False)\n",
        "X_ub_train = np.float32(X_ub[idx4,:])\n",
        "ub_train   = np.float32(u_boundary[idx4,:])\n",
        "\n",
        "# Randomly select the interface points along two interfaces\n",
        "idxi1 = np.random.choice(X_fi.shape[0], N_I1, replace=False)    \n",
        "X_fi_train = np.float32(X_fi[idxi1,:])\n",
        "ub_fi1_train = np.float32(u_exacti[idxi1,:])"
      ],
      "metadata": {
        "id": "pVM2OES-MYUv"
      },
      "execution_count": 96,
      "outputs": []
    },
    {
      "cell_type": "code",
      "source": [
        "type(X_f1_train[1, 0])"
      ],
      "metadata": {
        "colab": {
          "base_uri": "https://localhost:8080/"
        },
        "id": "z9f-AzZIPeTf",
        "outputId": "7afeba41-9c4c-43de-b125-0745834cbccd"
      },
      "execution_count": 97,
      "outputs": [
        {
          "output_type": "execute_result",
          "data": {
            "text/plain": [
              "numpy.float32"
            ]
          },
          "metadata": {},
          "execution_count": 97
        }
      ]
    },
    {
      "cell_type": "markdown",
      "source": [
        "## Train Pinns"
      ],
      "metadata": {
        "id": "5A8eyjpenOrO"
      }
    },
    {
      "cell_type": "code",
      "source": [
        "from functools import partial\n",
        "\n",
        "# domain = [0.0, 1.0]\n",
        "# x = torch.linspace(domain[0], domain[1], steps=10, requires_grad=True)\n",
        "# x = x.reshape(x.shape[0], 1)\n",
        "\n",
        "x1 = torch.tensor(X_f1_train, requires_grad=True) \n",
        "x2 = torch.tensor(X_f2_train, requires_grad=True) \n",
        "xi = torch.tensor(X_fi_train, requires_grad=True) \n",
        "xb = torch.tensor(X_ub_train, requires_grad=True)\n",
        "ub = torch.tensor(ub_train)\n",
        "ub = torch.zeros_like(ub)\n",
        "ufi = torch.tensor(ub_fi1_train)\n",
        "\n",
        "nn_approximator_1 = NNApproximator(2, 32)\n",
        "nn_approximator_2 = NNApproximator(2, 32)\n",
        "# assert check_gradient(nn_approximator, x)\n",
        "\n",
        "# f_initial = f(nn_approximator, x)\n",
        "# ax.plot(x.detach().numpy(), f_initial.detach().numpy(), label=\"Initial NN solution\")\n",
        "\n",
        "# train the PINN\n",
        "loss_fn = partial(compute_loss,     \n",
        "                  x1 = x1, \n",
        "                  x2 = x2, \n",
        "                  xi = xi, \n",
        "                  xb = xb, \n",
        "                  ub = ub,\n",
        "                  ufi = ufi,\n",
        "                  verbose=True)\n",
        "\n",
        "nn_approximator_trained, loss_evolutions, loss_array = train_model(\n",
        "                                                                  nn_approximator_1,\n",
        "                                                                  nn_approximator_2,\n",
        "                                                                  loss_fn=loss_fn, \n",
        "                                                                  learning_rate=0.008, \n",
        "                                                                  max_epochs=30000\n",
        "                                                                )\n",
        "\n",
        "# x_eval = torch.linspace(domain[0], domain[1], steps=100).reshape(-1, 1)\n"
      ],
      "metadata": {
        "colab": {
          "base_uri": "https://localhost:8080/"
        },
        "id": "GJ1byIfJUH0Q",
        "outputId": "4773cf48-4a1a-4bb4-8ec2-9cf599bdb24d"
      },
      "execution_count": 98,
      "outputs": [
        {
          "output_type": "stream",
          "name": "stdout",
          "text": [
            "Loss at 0: 1.6363445520401, 1.8488138914108276,               domain: 2499.96240234375, 1.7192875146865845, 0.17716321349143982\n",
            "Epoch: 0 - Loss # 1: 2659.535400\n",
            "Epoch: 1000 - Loss # 1: 735.495178\n",
            "Loss at 2000: 1.635841727256775, 1.4303280115127563,               domain: 222.3095245361328, 0.3576405942440033, 3.767812728483477e-09\n",
            "Epoch: 2000 - Loss # 1: 323.453369\n",
            "Epoch: 3000 - Loss # 1: 171.551819\n",
            "Loss at 4000: 1.6231428384780884, 1.3335442543029785,               domain: 30.599533081054688, 0.3334277868270874, 1.1947972780035343e-05\n",
            "Epoch: 4000 - Loss # 1: 129.377533\n",
            "Epoch: 5000 - Loss # 1: 115.858261\n",
            "Loss at 6000: 1.5854463577270508, 1.2670693397521973,               domain: 16.00893211364746, 0.32576674222946167, 0.0004240003472659737\n",
            "Epoch: 6000 - Loss # 1: 111.082428\n",
            "Epoch: 7000 - Loss # 1: 101.401070\n",
            "Loss at 8000: 1.38161039352417, 0.8057435154914856,               domain: 16.428417205810547, 0.21143507957458496, 0.00039226238732226193\n",
            "Epoch: 8000 - Loss # 1: 89.362869\n",
            "Epoch: 9000 - Loss # 1: 78.193016\n",
            "Loss at 10000: 1.2191228866577148, 0.4572940170764923,               domain: 14.45290756225586, 0.12665988504886627, 0.0005762798828072846\n",
            "Epoch: 10000 - Loss # 1: 71.639641\n",
            "Epoch: 11000 - Loss # 1: 65.300163\n",
            "Loss at 12000: 1.1621103286743164, 0.3084668815135956,               domain: 11.074353218078613, 0.08984336256980896, 0.000578224309720099\n",
            "Epoch: 12000 - Loss # 1: 62.155922\n",
            "Epoch: 13000 - Loss # 1: 64.724182\n",
            "Loss at 14000: 1.0996674299240112, 0.19568075239658356,               domain: 10.046545028686523, 0.06191425397992134, 0.0005450715543702245\n",
            "Epoch: 14000 - Loss # 1: 56.964905\n",
            "Epoch: 15000 - Loss # 1: 55.347176\n",
            "Loss at 16000: 1.0253653526306152, 0.1636989861726761,               domain: 8.323534965515137, 0.058021221309900284, 0.0004977653734385967\n",
            "Epoch: 16000 - Loss # 1: 54.054840\n",
            "Epoch: 17000 - Loss # 1: 54.034996\n",
            "Loss at 18000: 0.9853325486183167, 0.14639624953269958,               domain: 8.203999519348145, 0.054816149175167084, 0.0005609784857369959\n",
            "Epoch: 18000 - Loss # 1: 53.451565\n",
            "Epoch: 19000 - Loss # 1: 51.206192\n",
            "Loss at 20000: 0.9501567482948303, 0.11814241111278534,               domain: 8.938750267028809, 0.0494619682431221, 0.000630405789706856\n",
            "Epoch: 20000 - Loss # 1: 53.388657\n",
            "Epoch: 21000 - Loss # 1: 48.355148\n",
            "Loss at 22000: 0.9080396890640259, 0.10125065594911575,               domain: 3.619946241378784, 0.04766090586781502, 0.0007195383659563959\n",
            "Epoch: 22000 - Loss # 1: 47.606499\n",
            "Epoch: 23000 - Loss # 1: 47.201748\n",
            "Loss at 24000: 0.8179879784584045, 0.09782788902521133,               domain: 3.233079195022583, 0.05064687877893448, 0.0008255130960606039\n",
            "Epoch: 24000 - Loss # 1: 47.006393\n",
            "Epoch: 25000 - Loss # 1: 48.012657\n",
            "Loss at 26000: 0.7614715695381165, 0.09380043298006058,               domain: 5.146672248840332, 0.05056195706129074, 0.0008007759461179376\n",
            "Epoch: 26000 - Loss # 1: 48.786415\n",
            "Epoch: 27000 - Loss # 1: 46.903568\n",
            "Loss at 28000: 0.7300999760627747, 0.08974620699882507,               domain: 3.5189056396484375, 0.049781009554862976, 0.000775448395870626\n",
            "Epoch: 28000 - Loss # 1: 47.058197\n",
            "Epoch: 29000 - Loss # 1: 48.081532\n"
          ]
        }
      ]
    },
    {
      "cell_type": "code",
      "source": [
        ""
      ],
      "metadata": {
        "id": "LFvm-GH8-tVZ"
      },
      "execution_count": 98,
      "outputs": []
    },
    {
      "cell_type": "code",
      "source": [
        ""
      ],
      "metadata": {
        "id": "YJGRXxyO-Pmp"
      },
      "execution_count": 98,
      "outputs": []
    },
    {
      "cell_type": "code",
      "source": [
        "fig = plt.figure(figsize=(10, 7))\n",
        "\n",
        "plt.plot(loss_array[0, :])\n",
        "plt.title('interior_loss_1')\n",
        "plt.show()\n",
        "\n",
        "fig = plt.figure(figsize=(12, 8))\n",
        "\n",
        "plt.plot(loss_array[1, :])\n",
        "plt.title('interface_loss_1')\n",
        "plt.show()\n",
        "\n",
        "fig = plt.figure(figsize=(12, 8))\n",
        "\n",
        "plt.plot(loss_array[2, :])\n",
        "plt.title('interior_loss_2')\n",
        "plt.show()\n",
        "\n",
        "fig = plt.figure(figsize=(12, 8))\n",
        "\n",
        "plt.plot(loss_array[3, :])\n",
        "plt.title('interface_loss_2')\n",
        "\n",
        "plt.show()\n",
        "\n",
        "fig = plt.figure(figsize=(12, 8))\n",
        "\n",
        "plt.plot(loss_array[4, :])\n",
        "plt.title('boundary_loss')\n",
        "\n",
        "plt.show()"
      ],
      "metadata": {
        "colab": {
          "base_uri": "https://localhost:8080/",
          "height": 1000
        },
        "id": "iwDpdmH--ITA",
        "outputId": "20e16f99-c462-472c-b522-28983bf15389"
      },
      "execution_count": 99,
      "outputs": [
        {
          "output_type": "display_data",
          "data": {
            "text/plain": [
              "<Figure size 720x504 with 1 Axes>"
            ],
            "image/png": "[encoded data removed]"
          },
          "metadata": {
            "needs_background": "light"
          }
        },
        {
          "output_type": "display_data",
          "data": {
            "text/plain": [
              "<Figure size 864x576 with 1 Axes>"
            ],
            "image/png": "[encoded data removed]"
          },
          "metadata": {
            "needs_background": "light"
          }
        },
        {
          "output_type": "display_data",
          "data": {
            "text/plain": [
              "<Figure size 864x576 with 1 Axes>"
            ],
            "image/png": "[encoded data removed]"
          },
          "metadata": {
            "needs_background": "light"
          }
        },
        {
          "output_type": "display_data",
          "data": {
            "text/plain": [
              "<Figure size 864x576 with 1 Axes>"
            ],
            "image/png": "[encoded data removed]"
          },
          "metadata": {
            "needs_background": "light"
          }
        },
        {
          "output_type": "display_data",
          "data": {
            "text/plain": [
              "<Figure size 864x576 with 1 Axes>"
            ],
            "image/png": "[encoded data removed]"
          },
          "metadata": {
            "needs_background": "light"
          }
        }
      ]
    },
    {
      "cell_type": "code",
      "source": [
        "nn_approximator_1 = NNApproximator(4, 10)\n",
        "nn_approximator_2 = NNApproximator(2, 10)"
      ],
      "metadata": {
        "id": "hCoGGxurOMAM"
      },
      "execution_count": 100,
      "outputs": []
    },
    {
      "cell_type": "code",
      "source": [
        "from torchsummary import summary\n",
        "print(nn_approximator_1)"
      ],
      "metadata": {
        "colab": {
          "base_uri": "https://localhost:8080/"
        },
        "id": "ysMjRbyMOL9S",
        "outputId": "266a6544-4275-4b42-a80a-07b24df94471"
      },
      "execution_count": 101,
      "outputs": [
        {
          "output_type": "stream",
          "name": "stdout",
          "text": [
            "NNApproximator(\n",
            "  (layer_in): Linear(in_features=2, out_features=10, bias=True)\n",
            "  (layer_out): Linear(in_features=10, out_features=1, bias=True)\n",
            "  (middle_layers): ModuleList(\n",
            "    (0): Linear(in_features=10, out_features=10, bias=True)\n",
            "    (1): Linear(in_features=10, out_features=10, bias=True)\n",
            "    (2): Linear(in_features=10, out_features=10, bias=True)\n",
            "  )\n",
            "  (act): Sigmoid()\n",
            ")\n"
          ]
        }
      ]
    },
    {
      "cell_type": "code",
      "source": [
        "print(nn_approximator_2)"
      ],
      "metadata": {
        "colab": {
          "base_uri": "https://localhost:8080/"
        },
        "id": "gPmkLu90aiKG",
        "outputId": "49e50db4-d8be-48e6-d95b-387c65bfe0b0"
      },
      "execution_count": 102,
      "outputs": [
        {
          "output_type": "stream",
          "name": "stdout",
          "text": [
            "NNApproximator(\n",
            "  (layer_in): Linear(in_features=2, out_features=10, bias=True)\n",
            "  (layer_out): Linear(in_features=10, out_features=1, bias=True)\n",
            "  (middle_layers): ModuleList(\n",
            "    (0): Linear(in_features=10, out_features=10, bias=True)\n",
            "  )\n",
            "  (act): Sigmoid()\n",
            ")\n"
          ]
        }
      ]
    },
    {
      "cell_type": "code",
      "source": [
        ""
      ],
      "metadata": {
        "id": "B4uWFjiQi39V"
      },
      "execution_count": 102,
      "outputs": []
    },
    {
      "cell_type": "markdown",
      "source": [
        "## predict"
      ],
      "metadata": {
        "id": "FMl9kP_5sW81"
      }
    },
    {
      "cell_type": "code",
      "source": [
        "# Solution prediction\n",
        "\n",
        "nn1_trained = nn_approximator_trained[0]\n",
        "nn2_trained = nn_approximator_trained[1]\n",
        "\n",
        "u_pred1 = nn1_trained(torch.tensor(np.float32(X_f1))).detach().numpy()\n",
        "u_pred2 = nn2_trained(torch.tensor(np.float32(X_f2))).detach().numpy()\n",
        "\n",
        "u_pred_i1 = nn1_trained(torch.tensor(np.float32(X_fi))).detach().numpy()\n",
        "u_pred_i2 = nn2_trained(torch.tensor(np.float32(X_fi))).detach().numpy()\n",
        "\n",
        "u_pred_b = nn2_trained(torch.tensor(np.float32(X_ub))).detach().numpy()\n",
        "\n",
        "u_pred = np.concatenate([u_pred1, u_pred2, (u_pred_i1 + u_pred_i2)/2, u_pred_b])"
      ],
      "metadata": {
        "id": "pHqas7rOsWos"
      },
      "execution_count": 103,
      "outputs": []
    },
    {
      "cell_type": "code",
      "source": [
        "u_exact1 = data['u_domain'].flatten()[:,None]\n",
        "u_exact2 = data['u_coil'].flatten()[:,None]\n",
        "\n",
        "u_exacti = data['u_i'].flatten()[:,None]\n",
        "\n",
        "u_exact = np.concatenate([u_exact1, u_exact2, u_exacti, u_boundary])\n"
      ],
      "metadata": {
        "id": "N_fGZFqptalb"
      },
      "execution_count": 104,
      "outputs": []
    },
    {
      "cell_type": "code",
      "source": [
        "u_exact1 = np.divide(u_exact1, u_exact.max())\n",
        "print(u_exact1.max(), u_exact1.min())"
      ],
      "metadata": {
        "colab": {
          "base_uri": "https://localhost:8080/"
        },
        "id": "KhRLoEL_HdAW",
        "outputId": "78a2a6d3-b9bd-461d-c7e4-f0357d6cb495"
      },
      "execution_count": 105,
      "outputs": [
        {
          "output_type": "stream",
          "name": "stdout",
          "text": [
            "0.6662286972230436 0.0\n"
          ]
        }
      ]
    },
    {
      "cell_type": "code",
      "source": [
        "u_exact2 = np.divide(u_exact2, u_exact.max())\n",
        "print(u_exact2.max(), u_exact2.min())"
      ],
      "metadata": {
        "colab": {
          "base_uri": "https://localhost:8080/"
        },
        "id": "-UlJT4Kv_aRc",
        "outputId": "8c057f07-fbce-43cf-9b38-934c9a76181f"
      },
      "execution_count": 106,
      "outputs": [
        {
          "output_type": "stream",
          "name": "stdout",
          "text": [
            "1.0 0.762552684678704\n"
          ]
        }
      ]
    },
    {
      "cell_type": "code",
      "source": [
        "u_exacti = np.divide(u_exacti, u_exact.max())\n",
        "print(u_exacti.max(), u_exacti.min())"
      ],
      "metadata": {
        "colab": {
          "base_uri": "https://localhost:8080/"
        },
        "id": "kIG6wm_i_mCC",
        "outputId": "f0076e77-749c-45af-e5b9-a6224bf7f608"
      },
      "execution_count": 107,
      "outputs": [
        {
          "output_type": "stream",
          "name": "stdout",
          "text": [
            "0.7631657280148202 0.7625271425394428\n"
          ]
        }
      ]
    },
    {
      "cell_type": "code",
      "source": [
        "u_boundary = np.divide(u_boundary, u_exact.max())\n",
        "print(u_boundary.max(), u_boundary.min())"
      ],
      "metadata": {
        "colab": {
          "base_uri": "https://localhost:8080/"
        },
        "id": "Iv6n9aGS_6aa",
        "outputId": "c4d28c6c-edd8-478b-e568-7587e6b4bd49"
      },
      "execution_count": 108,
      "outputs": [
        {
          "output_type": "stream",
          "name": "stdout",
          "text": [
            "0.0 0.0\n"
          ]
        }
      ]
    },
    {
      "cell_type": "code",
      "source": [
        "u_exact = np.concatenate([u_exact1, u_exact2, u_exacti, u_boundary])\n"
      ],
      "metadata": {
        "id": "ef_W3zIQAi54"
      },
      "execution_count": 109,
      "outputs": []
    },
    {
      "cell_type": "markdown",
      "source": [
        "## Max values\n",
        "\n",
        "u max: 2.2\n",
        "\n",
        "u min: 0\n"
      ],
      "metadata": {
        "id": "_xvhiGYmAo39"
      }
    },
    {
      "cell_type": "code",
      "source": [
        "x_tot = np.concatenate([x_f1, x_f2, x_i, x_boundary])\n",
        "y_tot = np.concatenate([y_f1, y_f2, y_i, y_boundary])\n",
        "print(x_tot.shape, y_tot.shape, u_pred.shape, u_exact.shape)"
      ],
      "metadata": {
        "colab": {
          "base_uri": "https://localhost:8080/"
        },
        "id": "cFAktAlPt4wI",
        "outputId": "14733c4d-6871-4934-a6cb-02f2e50950c2"
      },
      "execution_count": 110,
      "outputs": [
        {
          "output_type": "stream",
          "name": "stdout",
          "text": [
            "(2693, 1) (2693, 1) (2693, 1) (2693, 1)\n"
          ]
        }
      ]
    },
    {
      "cell_type": "code",
      "source": [
        "import matplotlib.pyplot as plt\n",
        "import matplotlib.tri as tri\n",
        "import numpy as np\n",
        "\n",
        "np.random.seed(19680801)\n",
        "npts = 200\n",
        "ngridx = 100\n",
        "ngridy = 200\n",
        "x = x_tot.squeeze()\n",
        "y = y_tot.squeeze()\n",
        "up = u_pred.squeeze()\n",
        "uex = u_exact.squeeze()\n",
        "\n",
        "fig, (ax1, ax2) = plt.subplots(1,2,figsize=(26,10))\n",
        "\n",
        "## True Exact\n",
        "# ax2.tricontour(x, y, z, levels=20, linewidths=0.5, colors='k')\n",
        "cntr1 = ax1.tricontourf(x, y, uex, levels=20, cmap=\"jet\")\n",
        "\n",
        "fig.colorbar(cntr1, ax=ax1)\n",
        "# ax2.plot(x, y, 'ko', ms=3)\n",
        "ax1.set(xlim=(-1, 1), ylim=(-1, 1))\n",
        "ax1.set_title('Exact')\n",
        "\n",
        "\n",
        "## Predictions\n",
        "# ax2.tricontour(x, y, z, levels=20, linewidths=0.5, colors='k')\n",
        "cntr2 = ax2.tricontourf(x, y, up, levels=20, cmap=\"jet\")\n",
        "\n",
        "fig.colorbar(cntr2, ax=ax2)\n",
        "# ax2.plot(x, y, 'ko', ms=3)\n",
        "ax2.set(xlim=(-1, 1), ylim=(-1, 1))\n",
        "ax2.set_title('Prediction')\n",
        "\n",
        "plt.subplots_adjust(hspace=0.5)\n",
        "# plt.savefig('exact_pred_TL_20points.png', dpi=400)\n",
        "plt.show()"
      ],
      "metadata": {
        "id": "5huOum4qtuua",
        "colab": {
          "base_uri": "https://localhost:8080/",
          "height": 607
        },
        "outputId": "33e49aa4-2ec6-4180-afa0-cbfdc30fdb88"
      },
      "execution_count": 111,
      "outputs": [
        {
          "output_type": "display_data",
          "data": {
            "text/plain": [
              "<Figure size 1872x720 with 4 Axes>"
            ],
            "image/png": "[encoded data removed]"
          },
          "metadata": {
            "needs_background": "light"
          }
        }
      ]
    },
    {
      "cell_type": "markdown",
      "source": [
        "## Rough"
      ],
      "metadata": {
        "id": "PVUoKx0sNvhQ"
      }
    },
    {
      "cell_type": "code",
      "source": [
        "# numeric solution\n",
        "def logistic_eq_fn(x, y):\n",
        "    return R * x * (1 - x)\n",
        "\n",
        "numeric_solution = solve_ivp(\n",
        "    logistic_eq_fn, domain, [F0], t_eval=x_eval.squeeze().detach().numpy()\n",
        ")\n",
        "\n",
        "# plotting\n",
        "fig, ax = plt.subplots()\n",
        "\n",
        "f_final_training = f(nn_approximator_trained, x)\n",
        "f_final = f(nn_approximator_trained, x_eval)\n",
        "\n",
        "ax.scatter(x.detach().numpy(), f_final_training.detach().numpy(), label=\"Training points\", color=\"red\")\n",
        "ax.plot(x_eval.detach().numpy(), f_final.detach().numpy(), label=\"NN final solution\")\n",
        "ax.plot(\n",
        "    x_eval.detach().numpy(),\n",
        "    numeric_solution.y.T,\n",
        "    label=f\"Analytic solution\",\n",
        "    color=\"green\",\n",
        "    alpha=0.75,\n",
        ")\n",
        "ax.set(title=\"Logistic equation solved with NNs\", xlabel=\"t\", ylabel=\"f(t)\")\n",
        "ax.legend()\n",
        "\n",
        "fig, ax = plt.subplots()\n",
        "ax.semilogy(loss_evolution)\n",
        "ax.set(title=\"Loss evolution\", xlabel=\"# epochs\", ylabel=\"Loss\")\n",
        "ax.legend()\n",
        "\n",
        "plt.show()"
      ],
      "metadata": {
        "id": "L1ghiYO8m_C8",
        "colab": {
          "base_uri": "https://localhost:8080/",
          "height": 235
        },
        "outputId": "0a67fdf3-efe0-42cc-b325-9d851f6d10e0"
      },
      "execution_count": 112,
      "outputs": [
        {
          "output_type": "error",
          "ename": "NameError",
          "evalue": "ignored",
          "traceback": [
            "\u001b[0;31m---------------------------------------------------------------------------\u001b[0m",
            "\u001b[0;31mNameError\u001b[0m                                 Traceback (most recent call last)",
            "\u001b[0;32m<ipython-input-112-595a07f0eb81>\u001b[0m in \u001b[0;36m<module>\u001b[0;34m()\u001b[0m\n\u001b[1;32m      4\u001b[0m \u001b[0;34m\u001b[0m\u001b[0m\n\u001b[1;32m      5\u001b[0m numeric_solution = solve_ivp(\n\u001b[0;32m----> 6\u001b[0;31m     \u001b[0mlogistic_eq_fn\u001b[0m\u001b[0;34m,\u001b[0m \u001b[0mdomain\u001b[0m\u001b[0;34m,\u001b[0m \u001b[0;34m[\u001b[0m\u001b[0mF0\u001b[0m\u001b[0;34m]\u001b[0m\u001b[0;34m,\u001b[0m \u001b[0mt_eval\u001b[0m\u001b[0;34m=\u001b[0m\u001b[0mx_eval\u001b[0m\u001b[0;34m.\u001b[0m\u001b[0msqueeze\u001b[0m\u001b[0;34m(\u001b[0m\u001b[0;34m)\u001b[0m\u001b[0;34m.\u001b[0m\u001b[0mdetach\u001b[0m\u001b[0;34m(\u001b[0m\u001b[0;34m)\u001b[0m\u001b[0;34m.\u001b[0m\u001b[0mnumpy\u001b[0m\u001b[0;34m(\u001b[0m\u001b[0;34m)\u001b[0m\u001b[0;34m\u001b[0m\u001b[0;34m\u001b[0m\u001b[0m\n\u001b[0m\u001b[1;32m      7\u001b[0m )\n\u001b[1;32m      8\u001b[0m \u001b[0;34m\u001b[0m\u001b[0m\n",
            "\u001b[0;31mNameError\u001b[0m: name 'domain' is not defined"
          ]
        }
      ]
    }
  ]
}